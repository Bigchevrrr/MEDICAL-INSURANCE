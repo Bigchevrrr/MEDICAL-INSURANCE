{
 "cells": [
  {
   "cell_type": "markdown",
   "id": "8082b66d",
   "metadata": {},
   "source": [
    "## <h1 style = \"color:green; align-text:center; font-size: 25px\">PROJECT PREDICTING THE ANNUAL MEDICAL INSURANCE PRICES</h1>"
   ]
  },
  {
   "cell_type": "markdown",
   "id": "a0d1131a",
   "metadata": {},
   "source": [
    "## Sherif Ayobami Nas'r"
   ]
  },
  {
   "cell_type": "markdown",
   "id": "343f9f47",
   "metadata": {},
   "source": [
    "<img src = \"Media/medicalpic.jpg\"  alt = \"\">"
   ]
  },
  {
   "cell_type": "markdown",
   "id": "8b69873f",
   "metadata": {},
   "source": [
    "## 1.0 INTRODUCTION"
   ]
  },
  {
   "cell_type": "markdown",
   "id": "21c091e4",
   "metadata": {},
   "source": [
    "Medical insurance, often referred to as health insurance, is a financial arrangement in which individuals pay regular premiums to a healthcare provider or government entity in exchange for coverage of their medical expenses. This coverage typically includes a wide range of healthcare services, such as doctor visits, hospital stays, medications, and preventive care. Medical insurance serves as a safeguard against the high costs of medical treatments, ensuring that individuals can access necessary healthcare without bearing the full financial burden. Different plans offer varying levels of coverage and may require copayments, deductibles, and co-insurance. It plays a crucial role in providing access to healthcare, promoting wellness, and mitigating the financial risks associated with illness or injury.\n",
    " \n",
    " To utilize their medical insurance, policyholders often need to pay certain out-of-pocket expenses, such as deductibles, copayments, and co-insurance. Deductibles are the amount individuals must pay before the insurance starts covering costs. Copayments require a fixed amount for each service or prescription, while co-insurance involves a percentage of the cost being paid by the policyholder.\n",
    "\n",
    "Medical insurance aims to provide financial protection against the high expenses associated with illness, injury, and ongoing healthcare needs. It enables individuals to access medical care without shouldering the full financial burden themselves, thus promoting overall wellness and timely treatment.\n",
    "\n",
    "In conclusion, in this project, i consisdered developing a regression system to predict the price of the medical insurance considering the current state of global economy, the financial status of the policy holder and social factors retarding the growth of medical insurance.\n",
    "\n",
    "This phase represent the model creation phase of my project. At the end of this project, i intend to host it as an API for consumption"
   ]
  },
  {
   "cell_type": "markdown",
   "id": "ba08bb47",
   "metadata": {},
   "source": [
    "# Importing packages"
   ]
  },
  {
   "cell_type": "code",
   "execution_count": 91,
   "id": "51f3e64d",
   "metadata": {},
   "outputs": [],
   "source": [
    "## Data loading and manipulation\n",
    "\n",
    "import pandas as pd\n",
    "import numpy as np\n",
    "\n",
    "## Data visualization\n",
    "\n",
    "import matplotlib.pyplot as plt\n",
    "import seaborn as sns\n",
    "\n",
    "## Data modelling\n",
    "\n",
    "from sklearn.metrics import mean_absolute_error\n",
    "from sklearn.metrics import mean_squared_error\n",
    "from sklearn.linear_model import LogisticRegression\n",
    "from sklearn.model_selection import train_test_split\n",
    "from sklearn.preprocessing import LabelEncoder\n",
    "from sklearn.tree import DecisionTreeRegressor\n",
    "from sklearn.ensemble import RandomForestRegressor\n",
    "from sklearn.linear_model import Lasso, Ridge\n",
    "from sklearn.linear_model import LinearRegression\n",
    "from sklearn.neighbors import KNeighborsClassifier\n",
    "from sklearn.svm import SVC"
   ]
  },
  {
   "cell_type": "code",
   "execution_count": 61,
   "id": "4f4b27c9",
   "metadata": {},
   "outputs": [],
   "source": [
    "df = pd.read_csv('Datasets/Medicalpremium.csv')"
   ]
  },
  {
   "cell_type": "markdown",
   "id": "53e73c95",
   "metadata": {},
   "source": [
    "### The Medical Insurance Price Prediction  Datasets Was Gotten From <a href = \"https://www.kaggle.com/datasets/tejashvi14/medical-insurance-premium-prediction\">Kaggle</a>"
   ]
  },
  {
   "cell_type": "markdown",
   "id": "bfb70f63",
   "metadata": {},
   "source": [
    "# EXPLORATORY DATA ANALYSIS"
   ]
  },
  {
   "cell_type": "markdown",
   "id": "0c0804da",
   "metadata": {},
   "source": [
    "In this phase of the project, the dataset was analysed and investigated to summarize their main features. It helps determinehow best to manipulate the dataset to achieve optimal model performance by leveraging patterns, spotting and handling anomalies, testinghypothesis,or checking assumptions"
   ]
  },
  {
   "cell_type": "markdown",
   "id": "cc531112",
   "metadata": {},
   "source": [
    "# BRIEF OVERVIEW"
   ]
  },
  {
   "cell_type": "code",
   "execution_count": 12,
   "id": "c9225f41",
   "metadata": {},
   "outputs": [
    {
     "data": {
      "text/html": [
       "<div>\n",
       "<style scoped>\n",
       "    .dataframe tbody tr th:only-of-type {\n",
       "        vertical-align: middle;\n",
       "    }\n",
       "\n",
       "    .dataframe tbody tr th {\n",
       "        vertical-align: top;\n",
       "    }\n",
       "\n",
       "    .dataframe thead th {\n",
       "        text-align: right;\n",
       "    }\n",
       "</style>\n",
       "<table border=\"1\" class=\"dataframe\">\n",
       "  <thead>\n",
       "    <tr style=\"text-align: right;\">\n",
       "      <th></th>\n",
       "      <th>Age</th>\n",
       "      <th>Diabetes</th>\n",
       "      <th>BloodPressureProblems</th>\n",
       "      <th>AnyTransplants</th>\n",
       "      <th>AnyChronicDiseases</th>\n",
       "      <th>Height</th>\n",
       "      <th>Weight</th>\n",
       "      <th>KnownAllergies</th>\n",
       "      <th>HistoryOfCancerInFamily</th>\n",
       "      <th>NumberOfMajorSurgeries</th>\n",
       "      <th>PremiumPrice</th>\n",
       "    </tr>\n",
       "  </thead>\n",
       "  <tbody>\n",
       "    <tr>\n",
       "      <th>0</th>\n",
       "      <td>45</td>\n",
       "      <td>0</td>\n",
       "      <td>0</td>\n",
       "      <td>0</td>\n",
       "      <td>0</td>\n",
       "      <td>155</td>\n",
       "      <td>57</td>\n",
       "      <td>0</td>\n",
       "      <td>0</td>\n",
       "      <td>0</td>\n",
       "      <td>25000</td>\n",
       "    </tr>\n",
       "    <tr>\n",
       "      <th>1</th>\n",
       "      <td>60</td>\n",
       "      <td>1</td>\n",
       "      <td>0</td>\n",
       "      <td>0</td>\n",
       "      <td>0</td>\n",
       "      <td>180</td>\n",
       "      <td>73</td>\n",
       "      <td>0</td>\n",
       "      <td>0</td>\n",
       "      <td>0</td>\n",
       "      <td>29000</td>\n",
       "    </tr>\n",
       "    <tr>\n",
       "      <th>2</th>\n",
       "      <td>36</td>\n",
       "      <td>1</td>\n",
       "      <td>1</td>\n",
       "      <td>0</td>\n",
       "      <td>0</td>\n",
       "      <td>158</td>\n",
       "      <td>59</td>\n",
       "      <td>0</td>\n",
       "      <td>0</td>\n",
       "      <td>1</td>\n",
       "      <td>23000</td>\n",
       "    </tr>\n",
       "    <tr>\n",
       "      <th>3</th>\n",
       "      <td>52</td>\n",
       "      <td>1</td>\n",
       "      <td>1</td>\n",
       "      <td>0</td>\n",
       "      <td>1</td>\n",
       "      <td>183</td>\n",
       "      <td>93</td>\n",
       "      <td>0</td>\n",
       "      <td>0</td>\n",
       "      <td>2</td>\n",
       "      <td>28000</td>\n",
       "    </tr>\n",
       "    <tr>\n",
       "      <th>4</th>\n",
       "      <td>38</td>\n",
       "      <td>0</td>\n",
       "      <td>0</td>\n",
       "      <td>0</td>\n",
       "      <td>1</td>\n",
       "      <td>166</td>\n",
       "      <td>88</td>\n",
       "      <td>0</td>\n",
       "      <td>0</td>\n",
       "      <td>1</td>\n",
       "      <td>23000</td>\n",
       "    </tr>\n",
       "    <tr>\n",
       "      <th>5</th>\n",
       "      <td>30</td>\n",
       "      <td>0</td>\n",
       "      <td>0</td>\n",
       "      <td>0</td>\n",
       "      <td>0</td>\n",
       "      <td>160</td>\n",
       "      <td>69</td>\n",
       "      <td>1</td>\n",
       "      <td>0</td>\n",
       "      <td>1</td>\n",
       "      <td>23000</td>\n",
       "    </tr>\n",
       "    <tr>\n",
       "      <th>6</th>\n",
       "      <td>33</td>\n",
       "      <td>0</td>\n",
       "      <td>0</td>\n",
       "      <td>0</td>\n",
       "      <td>0</td>\n",
       "      <td>150</td>\n",
       "      <td>54</td>\n",
       "      <td>0</td>\n",
       "      <td>0</td>\n",
       "      <td>0</td>\n",
       "      <td>21000</td>\n",
       "    </tr>\n",
       "    <tr>\n",
       "      <th>7</th>\n",
       "      <td>23</td>\n",
       "      <td>0</td>\n",
       "      <td>0</td>\n",
       "      <td>0</td>\n",
       "      <td>0</td>\n",
       "      <td>181</td>\n",
       "      <td>79</td>\n",
       "      <td>1</td>\n",
       "      <td>0</td>\n",
       "      <td>0</td>\n",
       "      <td>15000</td>\n",
       "    </tr>\n",
       "    <tr>\n",
       "      <th>8</th>\n",
       "      <td>48</td>\n",
       "      <td>1</td>\n",
       "      <td>0</td>\n",
       "      <td>0</td>\n",
       "      <td>0</td>\n",
       "      <td>169</td>\n",
       "      <td>74</td>\n",
       "      <td>1</td>\n",
       "      <td>0</td>\n",
       "      <td>0</td>\n",
       "      <td>23000</td>\n",
       "    </tr>\n",
       "    <tr>\n",
       "      <th>9</th>\n",
       "      <td>38</td>\n",
       "      <td>0</td>\n",
       "      <td>0</td>\n",
       "      <td>0</td>\n",
       "      <td>0</td>\n",
       "      <td>182</td>\n",
       "      <td>93</td>\n",
       "      <td>0</td>\n",
       "      <td>0</td>\n",
       "      <td>0</td>\n",
       "      <td>23000</td>\n",
       "    </tr>\n",
       "    <tr>\n",
       "      <th>10</th>\n",
       "      <td>60</td>\n",
       "      <td>0</td>\n",
       "      <td>1</td>\n",
       "      <td>0</td>\n",
       "      <td>0</td>\n",
       "      <td>175</td>\n",
       "      <td>74</td>\n",
       "      <td>0</td>\n",
       "      <td>0</td>\n",
       "      <td>2</td>\n",
       "      <td>28000</td>\n",
       "    </tr>\n",
       "    <tr>\n",
       "      <th>11</th>\n",
       "      <td>66</td>\n",
       "      <td>1</td>\n",
       "      <td>0</td>\n",
       "      <td>0</td>\n",
       "      <td>0</td>\n",
       "      <td>186</td>\n",
       "      <td>67</td>\n",
       "      <td>0</td>\n",
       "      <td>0</td>\n",
       "      <td>0</td>\n",
       "      <td>25000</td>\n",
       "    </tr>\n",
       "    <tr>\n",
       "      <th>12</th>\n",
       "      <td>24</td>\n",
       "      <td>0</td>\n",
       "      <td>0</td>\n",
       "      <td>0</td>\n",
       "      <td>0</td>\n",
       "      <td>178</td>\n",
       "      <td>57</td>\n",
       "      <td>1</td>\n",
       "      <td>0</td>\n",
       "      <td>1</td>\n",
       "      <td>15000</td>\n",
       "    </tr>\n",
       "    <tr>\n",
       "      <th>13</th>\n",
       "      <td>46</td>\n",
       "      <td>0</td>\n",
       "      <td>1</td>\n",
       "      <td>0</td>\n",
       "      <td>0</td>\n",
       "      <td>184</td>\n",
       "      <td>97</td>\n",
       "      <td>0</td>\n",
       "      <td>0</td>\n",
       "      <td>0</td>\n",
       "      <td>35000</td>\n",
       "    </tr>\n",
       "    <tr>\n",
       "      <th>14</th>\n",
       "      <td>18</td>\n",
       "      <td>0</td>\n",
       "      <td>0</td>\n",
       "      <td>1</td>\n",
       "      <td>0</td>\n",
       "      <td>150</td>\n",
       "      <td>76</td>\n",
       "      <td>0</td>\n",
       "      <td>0</td>\n",
       "      <td>1</td>\n",
       "      <td>15000</td>\n",
       "    </tr>\n",
       "    <tr>\n",
       "      <th>15</th>\n",
       "      <td>38</td>\n",
       "      <td>0</td>\n",
       "      <td>0</td>\n",
       "      <td>0</td>\n",
       "      <td>0</td>\n",
       "      <td>160</td>\n",
       "      <td>68</td>\n",
       "      <td>1</td>\n",
       "      <td>0</td>\n",
       "      <td>1</td>\n",
       "      <td>23000</td>\n",
       "    </tr>\n",
       "    <tr>\n",
       "      <th>16</th>\n",
       "      <td>42</td>\n",
       "      <td>0</td>\n",
       "      <td>0</td>\n",
       "      <td>0</td>\n",
       "      <td>1</td>\n",
       "      <td>149</td>\n",
       "      <td>67</td>\n",
       "      <td>0</td>\n",
       "      <td>0</td>\n",
       "      <td>0</td>\n",
       "      <td>30000</td>\n",
       "    </tr>\n",
       "    <tr>\n",
       "      <th>17</th>\n",
       "      <td>38</td>\n",
       "      <td>1</td>\n",
       "      <td>0</td>\n",
       "      <td>0</td>\n",
       "      <td>0</td>\n",
       "      <td>154</td>\n",
       "      <td>82</td>\n",
       "      <td>0</td>\n",
       "      <td>0</td>\n",
       "      <td>0</td>\n",
       "      <td>23000</td>\n",
       "    </tr>\n",
       "    <tr>\n",
       "      <th>18</th>\n",
       "      <td>57</td>\n",
       "      <td>1</td>\n",
       "      <td>0</td>\n",
       "      <td>0</td>\n",
       "      <td>0</td>\n",
       "      <td>156</td>\n",
       "      <td>61</td>\n",
       "      <td>0</td>\n",
       "      <td>0</td>\n",
       "      <td>0</td>\n",
       "      <td>25000</td>\n",
       "    </tr>\n",
       "    <tr>\n",
       "      <th>19</th>\n",
       "      <td>21</td>\n",
       "      <td>0</td>\n",
       "      <td>1</td>\n",
       "      <td>0</td>\n",
       "      <td>0</td>\n",
       "      <td>186</td>\n",
       "      <td>97</td>\n",
       "      <td>0</td>\n",
       "      <td>0</td>\n",
       "      <td>0</td>\n",
       "      <td>15000</td>\n",
       "    </tr>\n",
       "  </tbody>\n",
       "</table>\n",
       "</div>"
      ],
      "text/plain": [
       "    Age  Diabetes  BloodPressureProblems  AnyTransplants  AnyChronicDiseases  \\\n",
       "0    45         0                      0               0                   0   \n",
       "1    60         1                      0               0                   0   \n",
       "2    36         1                      1               0                   0   \n",
       "3    52         1                      1               0                   1   \n",
       "4    38         0                      0               0                   1   \n",
       "5    30         0                      0               0                   0   \n",
       "6    33         0                      0               0                   0   \n",
       "7    23         0                      0               0                   0   \n",
       "8    48         1                      0               0                   0   \n",
       "9    38         0                      0               0                   0   \n",
       "10   60         0                      1               0                   0   \n",
       "11   66         1                      0               0                   0   \n",
       "12   24         0                      0               0                   0   \n",
       "13   46         0                      1               0                   0   \n",
       "14   18         0                      0               1                   0   \n",
       "15   38         0                      0               0                   0   \n",
       "16   42         0                      0               0                   1   \n",
       "17   38         1                      0               0                   0   \n",
       "18   57         1                      0               0                   0   \n",
       "19   21         0                      1               0                   0   \n",
       "\n",
       "    Height  Weight  KnownAllergies  HistoryOfCancerInFamily  \\\n",
       "0      155      57               0                        0   \n",
       "1      180      73               0                        0   \n",
       "2      158      59               0                        0   \n",
       "3      183      93               0                        0   \n",
       "4      166      88               0                        0   \n",
       "5      160      69               1                        0   \n",
       "6      150      54               0                        0   \n",
       "7      181      79               1                        0   \n",
       "8      169      74               1                        0   \n",
       "9      182      93               0                        0   \n",
       "10     175      74               0                        0   \n",
       "11     186      67               0                        0   \n",
       "12     178      57               1                        0   \n",
       "13     184      97               0                        0   \n",
       "14     150      76               0                        0   \n",
       "15     160      68               1                        0   \n",
       "16     149      67               0                        0   \n",
       "17     154      82               0                        0   \n",
       "18     156      61               0                        0   \n",
       "19     186      97               0                        0   \n",
       "\n",
       "    NumberOfMajorSurgeries  PremiumPrice  \n",
       "0                        0         25000  \n",
       "1                        0         29000  \n",
       "2                        1         23000  \n",
       "3                        2         28000  \n",
       "4                        1         23000  \n",
       "5                        1         23000  \n",
       "6                        0         21000  \n",
       "7                        0         15000  \n",
       "8                        0         23000  \n",
       "9                        0         23000  \n",
       "10                       2         28000  \n",
       "11                       0         25000  \n",
       "12                       1         15000  \n",
       "13                       0         35000  \n",
       "14                       1         15000  \n",
       "15                       1         23000  \n",
       "16                       0         30000  \n",
       "17                       0         23000  \n",
       "18                       0         25000  \n",
       "19                       0         15000  "
      ]
     },
     "execution_count": 12,
     "metadata": {},
     "output_type": "execute_result"
    }
   ],
   "source": [
    "df.head(20)"
   ]
  },
  {
   "cell_type": "code",
   "execution_count": 13,
   "id": "95317fd1",
   "metadata": {},
   "outputs": [
    {
     "data": {
      "text/html": [
       "<div>\n",
       "<style scoped>\n",
       "    .dataframe tbody tr th:only-of-type {\n",
       "        vertical-align: middle;\n",
       "    }\n",
       "\n",
       "    .dataframe tbody tr th {\n",
       "        vertical-align: top;\n",
       "    }\n",
       "\n",
       "    .dataframe thead th {\n",
       "        text-align: right;\n",
       "    }\n",
       "</style>\n",
       "<table border=\"1\" class=\"dataframe\">\n",
       "  <thead>\n",
       "    <tr style=\"text-align: right;\">\n",
       "      <th></th>\n",
       "      <th>Age</th>\n",
       "      <th>Diabetes</th>\n",
       "      <th>BloodPressureProblems</th>\n",
       "      <th>AnyTransplants</th>\n",
       "      <th>AnyChronicDiseases</th>\n",
       "      <th>Height</th>\n",
       "      <th>Weight</th>\n",
       "      <th>KnownAllergies</th>\n",
       "      <th>HistoryOfCancerInFamily</th>\n",
       "      <th>NumberOfMajorSurgeries</th>\n",
       "      <th>PremiumPrice</th>\n",
       "    </tr>\n",
       "  </thead>\n",
       "  <tbody>\n",
       "    <tr>\n",
       "      <th>count</th>\n",
       "      <td>986.000000</td>\n",
       "      <td>986.000000</td>\n",
       "      <td>986.000000</td>\n",
       "      <td>986.000000</td>\n",
       "      <td>986.000000</td>\n",
       "      <td>986.000000</td>\n",
       "      <td>986.000000</td>\n",
       "      <td>986.000000</td>\n",
       "      <td>986.000000</td>\n",
       "      <td>986.000000</td>\n",
       "      <td>986.000000</td>\n",
       "    </tr>\n",
       "    <tr>\n",
       "      <th>mean</th>\n",
       "      <td>41.745436</td>\n",
       "      <td>0.419878</td>\n",
       "      <td>0.468560</td>\n",
       "      <td>0.055781</td>\n",
       "      <td>0.180527</td>\n",
       "      <td>168.182556</td>\n",
       "      <td>76.950304</td>\n",
       "      <td>0.215010</td>\n",
       "      <td>0.117647</td>\n",
       "      <td>0.667343</td>\n",
       "      <td>24336.713996</td>\n",
       "    </tr>\n",
       "    <tr>\n",
       "      <th>std</th>\n",
       "      <td>13.963371</td>\n",
       "      <td>0.493789</td>\n",
       "      <td>0.499264</td>\n",
       "      <td>0.229615</td>\n",
       "      <td>0.384821</td>\n",
       "      <td>10.098155</td>\n",
       "      <td>14.265096</td>\n",
       "      <td>0.411038</td>\n",
       "      <td>0.322353</td>\n",
       "      <td>0.749205</td>\n",
       "      <td>6248.184382</td>\n",
       "    </tr>\n",
       "    <tr>\n",
       "      <th>min</th>\n",
       "      <td>18.000000</td>\n",
       "      <td>0.000000</td>\n",
       "      <td>0.000000</td>\n",
       "      <td>0.000000</td>\n",
       "      <td>0.000000</td>\n",
       "      <td>145.000000</td>\n",
       "      <td>51.000000</td>\n",
       "      <td>0.000000</td>\n",
       "      <td>0.000000</td>\n",
       "      <td>0.000000</td>\n",
       "      <td>15000.000000</td>\n",
       "    </tr>\n",
       "    <tr>\n",
       "      <th>25%</th>\n",
       "      <td>30.000000</td>\n",
       "      <td>0.000000</td>\n",
       "      <td>0.000000</td>\n",
       "      <td>0.000000</td>\n",
       "      <td>0.000000</td>\n",
       "      <td>161.000000</td>\n",
       "      <td>67.000000</td>\n",
       "      <td>0.000000</td>\n",
       "      <td>0.000000</td>\n",
       "      <td>0.000000</td>\n",
       "      <td>21000.000000</td>\n",
       "    </tr>\n",
       "    <tr>\n",
       "      <th>50%</th>\n",
       "      <td>42.000000</td>\n",
       "      <td>0.000000</td>\n",
       "      <td>0.000000</td>\n",
       "      <td>0.000000</td>\n",
       "      <td>0.000000</td>\n",
       "      <td>168.000000</td>\n",
       "      <td>75.000000</td>\n",
       "      <td>0.000000</td>\n",
       "      <td>0.000000</td>\n",
       "      <td>1.000000</td>\n",
       "      <td>23000.000000</td>\n",
       "    </tr>\n",
       "    <tr>\n",
       "      <th>75%</th>\n",
       "      <td>53.000000</td>\n",
       "      <td>1.000000</td>\n",
       "      <td>1.000000</td>\n",
       "      <td>0.000000</td>\n",
       "      <td>0.000000</td>\n",
       "      <td>176.000000</td>\n",
       "      <td>87.000000</td>\n",
       "      <td>0.000000</td>\n",
       "      <td>0.000000</td>\n",
       "      <td>1.000000</td>\n",
       "      <td>28000.000000</td>\n",
       "    </tr>\n",
       "    <tr>\n",
       "      <th>max</th>\n",
       "      <td>66.000000</td>\n",
       "      <td>1.000000</td>\n",
       "      <td>1.000000</td>\n",
       "      <td>1.000000</td>\n",
       "      <td>1.000000</td>\n",
       "      <td>188.000000</td>\n",
       "      <td>132.000000</td>\n",
       "      <td>1.000000</td>\n",
       "      <td>1.000000</td>\n",
       "      <td>3.000000</td>\n",
       "      <td>40000.000000</td>\n",
       "    </tr>\n",
       "  </tbody>\n",
       "</table>\n",
       "</div>"
      ],
      "text/plain": [
       "              Age    Diabetes  BloodPressureProblems  AnyTransplants  \\\n",
       "count  986.000000  986.000000             986.000000      986.000000   \n",
       "mean    41.745436    0.419878               0.468560        0.055781   \n",
       "std     13.963371    0.493789               0.499264        0.229615   \n",
       "min     18.000000    0.000000               0.000000        0.000000   \n",
       "25%     30.000000    0.000000               0.000000        0.000000   \n",
       "50%     42.000000    0.000000               0.000000        0.000000   \n",
       "75%     53.000000    1.000000               1.000000        0.000000   \n",
       "max     66.000000    1.000000               1.000000        1.000000   \n",
       "\n",
       "       AnyChronicDiseases      Height      Weight  KnownAllergies  \\\n",
       "count          986.000000  986.000000  986.000000      986.000000   \n",
       "mean             0.180527  168.182556   76.950304        0.215010   \n",
       "std              0.384821   10.098155   14.265096        0.411038   \n",
       "min              0.000000  145.000000   51.000000        0.000000   \n",
       "25%              0.000000  161.000000   67.000000        0.000000   \n",
       "50%              0.000000  168.000000   75.000000        0.000000   \n",
       "75%              0.000000  176.000000   87.000000        0.000000   \n",
       "max              1.000000  188.000000  132.000000        1.000000   \n",
       "\n",
       "       HistoryOfCancerInFamily  NumberOfMajorSurgeries  PremiumPrice  \n",
       "count               986.000000              986.000000    986.000000  \n",
       "mean                  0.117647                0.667343  24336.713996  \n",
       "std                   0.322353                0.749205   6248.184382  \n",
       "min                   0.000000                0.000000  15000.000000  \n",
       "25%                   0.000000                0.000000  21000.000000  \n",
       "50%                   0.000000                1.000000  23000.000000  \n",
       "75%                   0.000000                1.000000  28000.000000  \n",
       "max                   1.000000                3.000000  40000.000000  "
      ]
     },
     "execution_count": 13,
     "metadata": {},
     "output_type": "execute_result"
    }
   ],
   "source": [
    "df.describe()"
   ]
  },
  {
   "cell_type": "code",
   "execution_count": 14,
   "id": "9cb1e4a5",
   "metadata": {},
   "outputs": [
    {
     "name": "stdout",
     "output_type": "stream",
     "text": [
      "<class 'pandas.core.frame.DataFrame'>\n",
      "RangeIndex: 986 entries, 0 to 985\n",
      "Data columns (total 11 columns):\n",
      " #   Column                   Non-Null Count  Dtype\n",
      "---  ------                   --------------  -----\n",
      " 0   Age                      986 non-null    int64\n",
      " 1   Diabetes                 986 non-null    int64\n",
      " 2   BloodPressureProblems    986 non-null    int64\n",
      " 3   AnyTransplants           986 non-null    int64\n",
      " 4   AnyChronicDiseases       986 non-null    int64\n",
      " 5   Height                   986 non-null    int64\n",
      " 6   Weight                   986 non-null    int64\n",
      " 7   KnownAllergies           986 non-null    int64\n",
      " 8   HistoryOfCancerInFamily  986 non-null    int64\n",
      " 9   NumberOfMajorSurgeries   986 non-null    int64\n",
      " 10  PremiumPrice             986 non-null    int64\n",
      "dtypes: int64(11)\n",
      "memory usage: 84.9 KB\n"
     ]
    }
   ],
   "source": [
    "df.info()"
   ]
  },
  {
   "cell_type": "markdown",
   "id": "f9123d50",
   "metadata": {},
   "source": [
    "Observation: This datasets has eleven columns with 986 entries. It contains all the independent variables as numerical values. And the value for each variables is complete\n",
    "No further data cleaning required because no missing values among the variables and object"
   ]
  },
  {
   "cell_type": "markdown",
   "id": "cbfe14aa",
   "metadata": {},
   "source": [
    "## Data Modelling"
   ]
  },
  {
   "cell_type": "code",
   "execution_count": 30,
   "id": "a34ad0d6",
   "metadata": {},
   "outputs": [],
   "source": [
    "y = df['PremiumPrice']\n",
    "X = df.drop('PremiumPrice', axis=1)"
   ]
  },
  {
   "cell_type": "code",
   "execution_count": 31,
   "id": "8cfebc70",
   "metadata": {},
   "outputs": [
    {
     "name": "stdout",
     "output_type": "stream",
     "text": [
      "<class 'pandas.core.series.Series'>\n",
      "RangeIndex: 986 entries, 0 to 985\n",
      "Series name: PremiumPrice\n",
      "Non-Null Count  Dtype\n",
      "--------------  -----\n",
      "986 non-null    int64\n",
      "dtypes: int64(1)\n",
      "memory usage: 7.8 KB\n"
     ]
    }
   ],
   "source": [
    "y.info()"
   ]
  },
  {
   "cell_type": "markdown",
   "id": "97faaa77",
   "metadata": {},
   "source": [
    "### Training of datasets"
   ]
  },
  {
   "cell_type": "code",
   "execution_count": 32,
   "id": "be807bd9",
   "metadata": {},
   "outputs": [],
   "source": [
    "trainX, testX, trainy, testy = train_test_split(X, y, test_size = 0.2)"
   ]
  },
  {
   "cell_type": "markdown",
   "id": "73789df4",
   "metadata": {},
   "source": [
    "## 1. LOGISTIC REGRESSION MODEL"
   ]
  },
  {
   "cell_type": "code",
   "execution_count": 36,
   "id": "f211319d",
   "metadata": {},
   "outputs": [],
   "source": [
    "model1 = LogisticRegression()"
   ]
  },
  {
   "cell_type": "code",
   "execution_count": 37,
   "id": "45a681b4",
   "metadata": {},
   "outputs": [
    {
     "name": "stderr",
     "output_type": "stream",
     "text": [
      "c:\\users\\user\\appdata\\local\\programs\\python\\python38\\lib\\site-packages\\sklearn\\linear_model\\_logistic.py:460: ConvergenceWarning: lbfgs failed to converge (status=1):\n",
      "STOP: TOTAL NO. of ITERATIONS REACHED LIMIT.\n",
      "\n",
      "Increase the number of iterations (max_iter) or scale the data as shown in:\n",
      "    https://scikit-learn.org/stable/modules/preprocessing.html\n",
      "Please also refer to the documentation for alternative solver options:\n",
      "    https://scikit-learn.org/stable/modules/linear_model.html#logistic-regression\n",
      "  n_iter_i = _check_optimize_result(\n"
     ]
    },
    {
     "data": {
      "text/html": [
       "<style>#sk-container-id-1 {color: black;}#sk-container-id-1 pre{padding: 0;}#sk-container-id-1 div.sk-toggleable {background-color: white;}#sk-container-id-1 label.sk-toggleable__label {cursor: pointer;display: block;width: 100%;margin-bottom: 0;padding: 0.3em;box-sizing: border-box;text-align: center;}#sk-container-id-1 label.sk-toggleable__label-arrow:before {content: \"▸\";float: left;margin-right: 0.25em;color: #696969;}#sk-container-id-1 label.sk-toggleable__label-arrow:hover:before {color: black;}#sk-container-id-1 div.sk-estimator:hover label.sk-toggleable__label-arrow:before {color: black;}#sk-container-id-1 div.sk-toggleable__content {max-height: 0;max-width: 0;overflow: hidden;text-align: left;background-color: #f0f8ff;}#sk-container-id-1 div.sk-toggleable__content pre {margin: 0.2em;color: black;border-radius: 0.25em;background-color: #f0f8ff;}#sk-container-id-1 input.sk-toggleable__control:checked~div.sk-toggleable__content {max-height: 200px;max-width: 100%;overflow: auto;}#sk-container-id-1 input.sk-toggleable__control:checked~label.sk-toggleable__label-arrow:before {content: \"▾\";}#sk-container-id-1 div.sk-estimator input.sk-toggleable__control:checked~label.sk-toggleable__label {background-color: #d4ebff;}#sk-container-id-1 div.sk-label input.sk-toggleable__control:checked~label.sk-toggleable__label {background-color: #d4ebff;}#sk-container-id-1 input.sk-hidden--visually {border: 0;clip: rect(1px 1px 1px 1px);clip: rect(1px, 1px, 1px, 1px);height: 1px;margin: -1px;overflow: hidden;padding: 0;position: absolute;width: 1px;}#sk-container-id-1 div.sk-estimator {font-family: monospace;background-color: #f0f8ff;border: 1px dotted black;border-radius: 0.25em;box-sizing: border-box;margin-bottom: 0.5em;}#sk-container-id-1 div.sk-estimator:hover {background-color: #d4ebff;}#sk-container-id-1 div.sk-parallel-item::after {content: \"\";width: 100%;border-bottom: 1px solid gray;flex-grow: 1;}#sk-container-id-1 div.sk-label:hover label.sk-toggleable__label {background-color: #d4ebff;}#sk-container-id-1 div.sk-serial::before {content: \"\";position: absolute;border-left: 1px solid gray;box-sizing: border-box;top: 0;bottom: 0;left: 50%;z-index: 0;}#sk-container-id-1 div.sk-serial {display: flex;flex-direction: column;align-items: center;background-color: white;padding-right: 0.2em;padding-left: 0.2em;position: relative;}#sk-container-id-1 div.sk-item {position: relative;z-index: 1;}#sk-container-id-1 div.sk-parallel {display: flex;align-items: stretch;justify-content: center;background-color: white;position: relative;}#sk-container-id-1 div.sk-item::before, #sk-container-id-1 div.sk-parallel-item::before {content: \"\";position: absolute;border-left: 1px solid gray;box-sizing: border-box;top: 0;bottom: 0;left: 50%;z-index: -1;}#sk-container-id-1 div.sk-parallel-item {display: flex;flex-direction: column;z-index: 1;position: relative;background-color: white;}#sk-container-id-1 div.sk-parallel-item:first-child::after {align-self: flex-end;width: 50%;}#sk-container-id-1 div.sk-parallel-item:last-child::after {align-self: flex-start;width: 50%;}#sk-container-id-1 div.sk-parallel-item:only-child::after {width: 0;}#sk-container-id-1 div.sk-dashed-wrapped {border: 1px dashed gray;margin: 0 0.4em 0.5em 0.4em;box-sizing: border-box;padding-bottom: 0.4em;background-color: white;}#sk-container-id-1 div.sk-label label {font-family: monospace;font-weight: bold;display: inline-block;line-height: 1.2em;}#sk-container-id-1 div.sk-label-container {text-align: center;}#sk-container-id-1 div.sk-container {/* jupyter's `normalize.less` sets `[hidden] { display: none; }` but bootstrap.min.css set `[hidden] { display: none !important; }` so we also need the `!important` here to be able to override the default hidden behavior on the sphinx rendered scikit-learn.org. See: https://github.com/scikit-learn/scikit-learn/issues/21755 */display: inline-block !important;position: relative;}#sk-container-id-1 div.sk-text-repr-fallback {display: none;}</style><div id=\"sk-container-id-1\" class=\"sk-top-container\"><div class=\"sk-text-repr-fallback\"><pre>LogisticRegression()</pre><b>In a Jupyter environment, please rerun this cell to show the HTML representation or trust the notebook. <br />On GitHub, the HTML representation is unable to render, please try loading this page with nbviewer.org.</b></div><div class=\"sk-container\" hidden><div class=\"sk-item\"><div class=\"sk-estimator sk-toggleable\"><input class=\"sk-toggleable__control sk-hidden--visually\" id=\"sk-estimator-id-1\" type=\"checkbox\" checked><label for=\"sk-estimator-id-1\" class=\"sk-toggleable__label sk-toggleable__label-arrow\">LogisticRegression</label><div class=\"sk-toggleable__content\"><pre>LogisticRegression()</pre></div></div></div></div></div>"
      ],
      "text/plain": [
       "LogisticRegression()"
      ]
     },
     "execution_count": 37,
     "metadata": {},
     "output_type": "execute_result"
    }
   ],
   "source": [
    "model1.fit(trainX, trainy)"
   ]
  },
  {
   "cell_type": "code",
   "execution_count": 38,
   "id": "f5a7281f",
   "metadata": {},
   "outputs": [],
   "source": [
    "result = model1.predict(testX)"
   ]
  },
  {
   "cell_type": "code",
   "execution_count": 39,
   "id": "6d87164f",
   "metadata": {},
   "outputs": [
    {
     "data": {
      "text/plain": [
       "array([23000, 15000, 23000, 25000, 23000, 15000, 15000, 15000, 29000,\n",
       "       28000, 23000, 28000, 15000, 23000, 23000, 23000, 23000, 15000,\n",
       "       29000, 28000, 28000, 23000, 25000, 23000, 28000, 25000, 28000,\n",
       "       28000, 23000, 23000, 15000, 15000, 23000, 23000, 25000, 25000,\n",
       "       28000, 23000, 28000, 28000, 28000, 23000, 23000, 23000, 25000,\n",
       "       15000, 23000, 28000, 23000, 28000, 35000, 28000, 15000, 28000,\n",
       "       15000, 23000, 23000, 23000, 25000, 28000, 23000, 23000, 25000,\n",
       "       23000, 29000, 28000, 15000, 28000, 23000, 28000, 15000, 35000,\n",
       "       23000, 23000, 15000, 15000, 25000, 25000, 28000, 15000, 28000,\n",
       "       23000, 29000, 23000, 28000, 23000, 15000, 28000, 21000, 28000,\n",
       "       28000, 23000, 21000, 29000, 15000, 35000, 23000, 15000, 23000,\n",
       "       23000, 28000, 15000, 28000, 15000, 28000, 23000, 23000, 28000,\n",
       "       25000, 25000, 15000, 25000, 23000, 23000, 25000, 28000, 15000,\n",
       "       23000, 28000, 23000, 23000, 23000, 25000, 23000, 15000, 23000,\n",
       "       15000, 23000, 23000, 28000, 25000, 25000, 25000, 29000, 23000,\n",
       "       15000, 25000, 15000, 23000, 23000, 23000, 15000, 25000, 28000,\n",
       "       15000, 23000, 21000, 25000, 23000, 28000, 25000, 23000, 28000,\n",
       "       23000, 28000, 23000, 26000, 23000, 23000, 23000, 15000, 23000,\n",
       "       23000, 25000, 15000, 15000, 15000, 23000, 23000, 28000, 25000,\n",
       "       23000, 23000, 23000, 15000, 15000, 23000, 23000, 21000, 28000,\n",
       "       15000, 25000, 28000, 23000, 23000, 23000, 15000, 28000, 25000,\n",
       "       28000, 23000, 23000, 28000, 15000, 15000, 26000, 23000, 23000],\n",
       "      dtype=int64)"
      ]
     },
     "execution_count": 39,
     "metadata": {},
     "output_type": "execute_result"
    }
   ],
   "source": [
    "result"
   ]
  },
  {
   "cell_type": "code",
   "execution_count": 40,
   "id": "34b6b69b",
   "metadata": {},
   "outputs": [
    {
     "data": {
      "text/plain": [
       "1803.030303030303"
      ]
     },
     "execution_count": 40,
     "metadata": {},
     "output_type": "execute_result"
    }
   ],
   "source": [
    "mean_absolute_error(result, testy)"
   ]
  },
  {
   "cell_type": "markdown",
   "id": "2a2a755f",
   "metadata": {},
   "source": [
    "# 2. DecisionTreeRegressor "
   ]
  },
  {
   "cell_type": "code",
   "execution_count": 41,
   "id": "8df95608",
   "metadata": {},
   "outputs": [],
   "source": [
    "model2 = DecisionTreeRegressor()"
   ]
  },
  {
   "cell_type": "code",
   "execution_count": 42,
   "id": "b12158a7",
   "metadata": {},
   "outputs": [
    {
     "data": {
      "text/html": [
       "<style>#sk-container-id-2 {color: black;}#sk-container-id-2 pre{padding: 0;}#sk-container-id-2 div.sk-toggleable {background-color: white;}#sk-container-id-2 label.sk-toggleable__label {cursor: pointer;display: block;width: 100%;margin-bottom: 0;padding: 0.3em;box-sizing: border-box;text-align: center;}#sk-container-id-2 label.sk-toggleable__label-arrow:before {content: \"▸\";float: left;margin-right: 0.25em;color: #696969;}#sk-container-id-2 label.sk-toggleable__label-arrow:hover:before {color: black;}#sk-container-id-2 div.sk-estimator:hover label.sk-toggleable__label-arrow:before {color: black;}#sk-container-id-2 div.sk-toggleable__content {max-height: 0;max-width: 0;overflow: hidden;text-align: left;background-color: #f0f8ff;}#sk-container-id-2 div.sk-toggleable__content pre {margin: 0.2em;color: black;border-radius: 0.25em;background-color: #f0f8ff;}#sk-container-id-2 input.sk-toggleable__control:checked~div.sk-toggleable__content {max-height: 200px;max-width: 100%;overflow: auto;}#sk-container-id-2 input.sk-toggleable__control:checked~label.sk-toggleable__label-arrow:before {content: \"▾\";}#sk-container-id-2 div.sk-estimator input.sk-toggleable__control:checked~label.sk-toggleable__label {background-color: #d4ebff;}#sk-container-id-2 div.sk-label input.sk-toggleable__control:checked~label.sk-toggleable__label {background-color: #d4ebff;}#sk-container-id-2 input.sk-hidden--visually {border: 0;clip: rect(1px 1px 1px 1px);clip: rect(1px, 1px, 1px, 1px);height: 1px;margin: -1px;overflow: hidden;padding: 0;position: absolute;width: 1px;}#sk-container-id-2 div.sk-estimator {font-family: monospace;background-color: #f0f8ff;border: 1px dotted black;border-radius: 0.25em;box-sizing: border-box;margin-bottom: 0.5em;}#sk-container-id-2 div.sk-estimator:hover {background-color: #d4ebff;}#sk-container-id-2 div.sk-parallel-item::after {content: \"\";width: 100%;border-bottom: 1px solid gray;flex-grow: 1;}#sk-container-id-2 div.sk-label:hover label.sk-toggleable__label {background-color: #d4ebff;}#sk-container-id-2 div.sk-serial::before {content: \"\";position: absolute;border-left: 1px solid gray;box-sizing: border-box;top: 0;bottom: 0;left: 50%;z-index: 0;}#sk-container-id-2 div.sk-serial {display: flex;flex-direction: column;align-items: center;background-color: white;padding-right: 0.2em;padding-left: 0.2em;position: relative;}#sk-container-id-2 div.sk-item {position: relative;z-index: 1;}#sk-container-id-2 div.sk-parallel {display: flex;align-items: stretch;justify-content: center;background-color: white;position: relative;}#sk-container-id-2 div.sk-item::before, #sk-container-id-2 div.sk-parallel-item::before {content: \"\";position: absolute;border-left: 1px solid gray;box-sizing: border-box;top: 0;bottom: 0;left: 50%;z-index: -1;}#sk-container-id-2 div.sk-parallel-item {display: flex;flex-direction: column;z-index: 1;position: relative;background-color: white;}#sk-container-id-2 div.sk-parallel-item:first-child::after {align-self: flex-end;width: 50%;}#sk-container-id-2 div.sk-parallel-item:last-child::after {align-self: flex-start;width: 50%;}#sk-container-id-2 div.sk-parallel-item:only-child::after {width: 0;}#sk-container-id-2 div.sk-dashed-wrapped {border: 1px dashed gray;margin: 0 0.4em 0.5em 0.4em;box-sizing: border-box;padding-bottom: 0.4em;background-color: white;}#sk-container-id-2 div.sk-label label {font-family: monospace;font-weight: bold;display: inline-block;line-height: 1.2em;}#sk-container-id-2 div.sk-label-container {text-align: center;}#sk-container-id-2 div.sk-container {/* jupyter's `normalize.less` sets `[hidden] { display: none; }` but bootstrap.min.css set `[hidden] { display: none !important; }` so we also need the `!important` here to be able to override the default hidden behavior on the sphinx rendered scikit-learn.org. See: https://github.com/scikit-learn/scikit-learn/issues/21755 */display: inline-block !important;position: relative;}#sk-container-id-2 div.sk-text-repr-fallback {display: none;}</style><div id=\"sk-container-id-2\" class=\"sk-top-container\"><div class=\"sk-text-repr-fallback\"><pre>DecisionTreeRegressor()</pre><b>In a Jupyter environment, please rerun this cell to show the HTML representation or trust the notebook. <br />On GitHub, the HTML representation is unable to render, please try loading this page with nbviewer.org.</b></div><div class=\"sk-container\" hidden><div class=\"sk-item\"><div class=\"sk-estimator sk-toggleable\"><input class=\"sk-toggleable__control sk-hidden--visually\" id=\"sk-estimator-id-2\" type=\"checkbox\" checked><label for=\"sk-estimator-id-2\" class=\"sk-toggleable__label sk-toggleable__label-arrow\">DecisionTreeRegressor</label><div class=\"sk-toggleable__content\"><pre>DecisionTreeRegressor()</pre></div></div></div></div></div>"
      ],
      "text/plain": [
       "DecisionTreeRegressor()"
      ]
     },
     "execution_count": 42,
     "metadata": {},
     "output_type": "execute_result"
    }
   ],
   "source": [
    "model2.fit(trainX, trainy)"
   ]
  },
  {
   "cell_type": "code",
   "execution_count": 43,
   "id": "8b8f1b19",
   "metadata": {},
   "outputs": [],
   "source": [
    "result = model2.predict(testX)"
   ]
  },
  {
   "cell_type": "code",
   "execution_count": 44,
   "id": "9e44d3cc",
   "metadata": {},
   "outputs": [
    {
     "data": {
      "text/plain": [
       "array([15000., 15000., 23000., 25000., 30000., 15000., 15000., 15000.,\n",
       "       23000., 28000., 23000., 28000., 15000., 29000., 23000., 23000.,\n",
       "       35000., 16000., 29000., 28000., 28000., 15000., 29000., 23000.,\n",
       "       25000., 25000., 25000., 29000., 30000., 23000., 15000., 32000.,\n",
       "       23000., 34000., 22000., 25000., 28000., 23000., 28000., 35000.,\n",
       "       28000., 38000., 23000., 23000., 25000., 15000., 23000., 28000.,\n",
       "       32000., 25000., 35000., 31000., 15000., 25000., 15000., 15000.,\n",
       "       35000., 23000., 25000., 35000., 23000., 23000., 25000., 23000.,\n",
       "       35000., 28000., 15000., 26000., 23000., 28000., 15000., 35000.,\n",
       "       23000., 23000., 15000., 36000., 25000., 25000., 28000., 15000.,\n",
       "       28000., 23000., 38000., 23000., 25000., 23000., 15000., 28000.,\n",
       "       21000., 28000., 25000., 29000., 21000., 35000., 15000., 29000.,\n",
       "       38000., 15000., 25000., 23000., 28000., 39000., 28000., 15000.,\n",
       "       28000., 23000., 23000., 17000., 28000., 25000., 15000., 38000.,\n",
       "       15000., 23000., 28000., 28000., 15000., 23000., 28000., 23000.,\n",
       "       25000., 23000., 25000., 22000., 15000., 34000., 15000., 23000.,\n",
       "       23000., 29000., 22000., 25000., 25000., 29000., 25000., 15000.,\n",
       "       25000., 19000., 25000., 21000., 23000., 15000., 25000., 28000.,\n",
       "       15000., 23000., 23000., 25000., 32000., 29000., 29000., 35000.,\n",
       "       29000., 30000., 28000., 23000., 23000., 34000., 23000., 31000.,\n",
       "       15000., 23000., 32000., 25000., 19000., 15000., 15000., 21000.,\n",
       "       30000., 28000., 25000., 31000., 23000., 23000., 16000., 32000.,\n",
       "       23000., 23000., 15000., 28000., 15000., 25000., 31000., 38000.,\n",
       "       23000., 23000., 15000., 28000., 25000., 29000., 15000., 23000.,\n",
       "       28000., 15000., 15000., 23000., 15000., 23000.])"
      ]
     },
     "execution_count": 44,
     "metadata": {},
     "output_type": "execute_result"
    }
   ],
   "source": [
    "result"
   ]
  },
  {
   "cell_type": "code",
   "execution_count": 45,
   "id": "c8b25b0c",
   "metadata": {},
   "outputs": [
    {
     "data": {
      "text/plain": [
       "1282.828282828283"
      ]
     },
     "execution_count": 45,
     "metadata": {},
     "output_type": "execute_result"
    }
   ],
   "source": [
    "mean_absolute_error(result, testy)"
   ]
  },
  {
   "cell_type": "markdown",
   "id": "31267bf7",
   "metadata": {},
   "source": [
    "# 3. LinearRegression"
   ]
  },
  {
   "cell_type": "code",
   "execution_count": 55,
   "id": "a7220d5a",
   "metadata": {},
   "outputs": [],
   "source": [
    "model3 = LinearRegression()"
   ]
  },
  {
   "cell_type": "code",
   "execution_count": 56,
   "id": "5dbf867a",
   "metadata": {},
   "outputs": [
    {
     "data": {
      "text/html": [
       "<style>#sk-container-id-4 {color: black;}#sk-container-id-4 pre{padding: 0;}#sk-container-id-4 div.sk-toggleable {background-color: white;}#sk-container-id-4 label.sk-toggleable__label {cursor: pointer;display: block;width: 100%;margin-bottom: 0;padding: 0.3em;box-sizing: border-box;text-align: center;}#sk-container-id-4 label.sk-toggleable__label-arrow:before {content: \"▸\";float: left;margin-right: 0.25em;color: #696969;}#sk-container-id-4 label.sk-toggleable__label-arrow:hover:before {color: black;}#sk-container-id-4 div.sk-estimator:hover label.sk-toggleable__label-arrow:before {color: black;}#sk-container-id-4 div.sk-toggleable__content {max-height: 0;max-width: 0;overflow: hidden;text-align: left;background-color: #f0f8ff;}#sk-container-id-4 div.sk-toggleable__content pre {margin: 0.2em;color: black;border-radius: 0.25em;background-color: #f0f8ff;}#sk-container-id-4 input.sk-toggleable__control:checked~div.sk-toggleable__content {max-height: 200px;max-width: 100%;overflow: auto;}#sk-container-id-4 input.sk-toggleable__control:checked~label.sk-toggleable__label-arrow:before {content: \"▾\";}#sk-container-id-4 div.sk-estimator input.sk-toggleable__control:checked~label.sk-toggleable__label {background-color: #d4ebff;}#sk-container-id-4 div.sk-label input.sk-toggleable__control:checked~label.sk-toggleable__label {background-color: #d4ebff;}#sk-container-id-4 input.sk-hidden--visually {border: 0;clip: rect(1px 1px 1px 1px);clip: rect(1px, 1px, 1px, 1px);height: 1px;margin: -1px;overflow: hidden;padding: 0;position: absolute;width: 1px;}#sk-container-id-4 div.sk-estimator {font-family: monospace;background-color: #f0f8ff;border: 1px dotted black;border-radius: 0.25em;box-sizing: border-box;margin-bottom: 0.5em;}#sk-container-id-4 div.sk-estimator:hover {background-color: #d4ebff;}#sk-container-id-4 div.sk-parallel-item::after {content: \"\";width: 100%;border-bottom: 1px solid gray;flex-grow: 1;}#sk-container-id-4 div.sk-label:hover label.sk-toggleable__label {background-color: #d4ebff;}#sk-container-id-4 div.sk-serial::before {content: \"\";position: absolute;border-left: 1px solid gray;box-sizing: border-box;top: 0;bottom: 0;left: 50%;z-index: 0;}#sk-container-id-4 div.sk-serial {display: flex;flex-direction: column;align-items: center;background-color: white;padding-right: 0.2em;padding-left: 0.2em;position: relative;}#sk-container-id-4 div.sk-item {position: relative;z-index: 1;}#sk-container-id-4 div.sk-parallel {display: flex;align-items: stretch;justify-content: center;background-color: white;position: relative;}#sk-container-id-4 div.sk-item::before, #sk-container-id-4 div.sk-parallel-item::before {content: \"\";position: absolute;border-left: 1px solid gray;box-sizing: border-box;top: 0;bottom: 0;left: 50%;z-index: -1;}#sk-container-id-4 div.sk-parallel-item {display: flex;flex-direction: column;z-index: 1;position: relative;background-color: white;}#sk-container-id-4 div.sk-parallel-item:first-child::after {align-self: flex-end;width: 50%;}#sk-container-id-4 div.sk-parallel-item:last-child::after {align-self: flex-start;width: 50%;}#sk-container-id-4 div.sk-parallel-item:only-child::after {width: 0;}#sk-container-id-4 div.sk-dashed-wrapped {border: 1px dashed gray;margin: 0 0.4em 0.5em 0.4em;box-sizing: border-box;padding-bottom: 0.4em;background-color: white;}#sk-container-id-4 div.sk-label label {font-family: monospace;font-weight: bold;display: inline-block;line-height: 1.2em;}#sk-container-id-4 div.sk-label-container {text-align: center;}#sk-container-id-4 div.sk-container {/* jupyter's `normalize.less` sets `[hidden] { display: none; }` but bootstrap.min.css set `[hidden] { display: none !important; }` so we also need the `!important` here to be able to override the default hidden behavior on the sphinx rendered scikit-learn.org. See: https://github.com/scikit-learn/scikit-learn/issues/21755 */display: inline-block !important;position: relative;}#sk-container-id-4 div.sk-text-repr-fallback {display: none;}</style><div id=\"sk-container-id-4\" class=\"sk-top-container\"><div class=\"sk-text-repr-fallback\"><pre>LinearRegression()</pre><b>In a Jupyter environment, please rerun this cell to show the HTML representation or trust the notebook. <br />On GitHub, the HTML representation is unable to render, please try loading this page with nbviewer.org.</b></div><div class=\"sk-container\" hidden><div class=\"sk-item\"><div class=\"sk-estimator sk-toggleable\"><input class=\"sk-toggleable__control sk-hidden--visually\" id=\"sk-estimator-id-4\" type=\"checkbox\" checked><label for=\"sk-estimator-id-4\" class=\"sk-toggleable__label sk-toggleable__label-arrow\">LinearRegression</label><div class=\"sk-toggleable__content\"><pre>LinearRegression()</pre></div></div></div></div></div>"
      ],
      "text/plain": [
       "LinearRegression()"
      ]
     },
     "execution_count": 56,
     "metadata": {},
     "output_type": "execute_result"
    }
   ],
   "source": [
    "model3.fit(trainX, trainy)"
   ]
  },
  {
   "cell_type": "code",
   "execution_count": 57,
   "id": "247cb016",
   "metadata": {},
   "outputs": [],
   "source": [
    "result = model3.predict(testX)"
   ]
  },
  {
   "cell_type": "code",
   "execution_count": 58,
   "id": "ed342b14",
   "metadata": {},
   "outputs": [
    {
     "data": {
      "text/plain": [
       "array([18074.03792925, 18188.54217584, 20236.71895668, 35107.15917916,\n",
       "       26644.30836743, 19950.06678065, 14274.32917605, 18891.94809365,\n",
       "       25135.93749985, 29717.78018489, 22594.68489156, 28931.06049964,\n",
       "       18245.89936464, 25622.67176939, 21001.65612786, 22482.72708891,\n",
       "       27730.6342731 , 15598.62739225, 27334.93227573, 29576.75129436,\n",
       "       28340.11353005, 17983.53900468, 26115.57616043, 24456.69918287,\n",
       "       30295.83330561, 27723.16192965, 31514.16430265, 26249.71993837,\n",
       "       26773.87637499, 23473.0767547 , 17728.14821382, 17569.99300815,\n",
       "       22556.32051459, 20832.41294585, 25106.95079065, 26123.11981442,\n",
       "       30468.5260422 , 19697.33041857, 30543.52769984, 31963.01877224,\n",
       "       24765.08236602, 32306.45886431, 22304.10243343, 21299.86755576,\n",
       "       25129.68125772, 17734.853932  , 20359.87244262, 30147.75896473,\n",
       "       22732.38182162, 27873.53330713, 32035.65860084, 32059.56775285,\n",
       "       18853.26424897, 28348.5959601 , 16839.06422428, 18931.51325205,\n",
       "       27786.75398178, 20230.08764646, 25861.21613304, 31434.68730125,\n",
       "       19334.85586633, 22817.3240747 , 24552.97300758, 26321.35394401,\n",
       "       28228.72685573, 26362.45827715, 16282.30439843, 29971.13641018,\n",
       "       19703.49127846, 27006.29302795, 17655.47877906, 30822.51977647,\n",
       "       23503.93119492, 25354.90308615, 16566.68416258, 17912.37400931,\n",
       "       23174.48961526, 28284.14088442, 30480.89293916, 19123.28668262,\n",
       "       29388.94538123, 22838.53212432, 36812.49131766, 23707.0948934 ,\n",
       "       33211.70938544, 26387.93774786, 16824.16701   , 28520.47656525,\n",
       "       18540.19287901, 30327.04088535, 28987.69465422, 26329.39918214,\n",
       "       21615.59182571, 30608.28607856, 14904.38932798, 30721.95921231,\n",
       "       30244.04674035, 26400.31196112, 25696.79932311, 25224.45867619,\n",
       "       28484.94551594, 18651.43748285, 29129.1559783 , 18373.35960283,\n",
       "       32728.03968943, 21398.38672722, 25807.44772265, 41244.32641422,\n",
       "       30004.81440223, 24805.45290844, 15338.72700617, 38193.4178737 ,\n",
       "       17784.65748378, 20257.25417713, 27120.70397582, 25685.68770388,\n",
       "       14961.23829687, 22544.0240866 , 32852.07222385, 24095.18649489,\n",
       "       24807.25885108, 24420.37310272, 25607.53638098, 26977.92239324,\n",
       "       15746.48983538, 20825.14451415, 19588.04590598, 24132.42580248,\n",
       "       20260.54886539, 30577.09776089, 26096.72799879, 24122.12606673,\n",
       "       26710.49913872, 29278.30657788, 25061.65924656, 15635.61613552,\n",
       "       26357.86001029, 21832.91456176, 23279.69052604, 18985.42114401,\n",
       "       23646.23494156, 15610.83611348, 23179.37561904, 28360.25502092,\n",
       "       19898.2036245 , 21108.76613334, 19692.58412042, 23982.56125842,\n",
       "       24963.93898328, 27649.70507687, 28869.66046065, 26108.21843602,\n",
       "       29050.8254903 , 26343.58736174, 30819.87265337, 21909.44625945,\n",
       "       21638.97848551, 19982.10910801, 22235.17822294, 26534.07133017,\n",
       "       16810.43985357, 26401.93513727, 22677.73852687, 29942.47107287,\n",
       "       20309.38663448, 17360.67920626, 17149.47190107, 19226.71269699,\n",
       "       27895.32339137, 31132.51982221, 26334.35493195, 31012.35693255,\n",
       "       19344.46336423, 19620.16708236, 17151.35691314, 18235.30269845,\n",
       "       21790.32286457, 21945.23912847, 19410.93442681, 38791.70287911,\n",
       "       16757.77925523, 27317.26873566, 28890.78947407, 28514.20671271,\n",
       "       18564.82086372, 21158.8674462 , 14638.35370707, 24078.17324519,\n",
       "       29663.26954459, 31420.74141995, 18980.38308671, 22838.49435475,\n",
       "       29278.30668164, 26683.85917237, 28826.84633368, 24522.512286  ,\n",
       "       21454.48583337, 23712.6411706 ])"
      ]
     },
     "execution_count": 58,
     "metadata": {},
     "output_type": "execute_result"
    }
   ],
   "source": [
    "result"
   ]
  },
  {
   "cell_type": "code",
   "execution_count": 59,
   "id": "0314f92b",
   "metadata": {},
   "outputs": [
    {
     "data": {
      "text/plain": [
       "2716.654725029599"
      ]
     },
     "execution_count": 59,
     "metadata": {},
     "output_type": "execute_result"
    }
   ],
   "source": [
    "mean_absolute_error(result, testy)"
   ]
  },
  {
   "cell_type": "markdown",
   "id": "3cb5090e",
   "metadata": {},
   "source": [
    "# 4. Lasso"
   ]
  },
  {
   "cell_type": "code",
   "execution_count": 65,
   "id": "f50416af",
   "metadata": {},
   "outputs": [],
   "source": [
    "model4 = Lasso()"
   ]
  },
  {
   "cell_type": "code",
   "execution_count": 66,
   "id": "13f6965f",
   "metadata": {},
   "outputs": [
    {
     "data": {
      "text/html": [
       "<style>#sk-container-id-5 {color: black;}#sk-container-id-5 pre{padding: 0;}#sk-container-id-5 div.sk-toggleable {background-color: white;}#sk-container-id-5 label.sk-toggleable__label {cursor: pointer;display: block;width: 100%;margin-bottom: 0;padding: 0.3em;box-sizing: border-box;text-align: center;}#sk-container-id-5 label.sk-toggleable__label-arrow:before {content: \"▸\";float: left;margin-right: 0.25em;color: #696969;}#sk-container-id-5 label.sk-toggleable__label-arrow:hover:before {color: black;}#sk-container-id-5 div.sk-estimator:hover label.sk-toggleable__label-arrow:before {color: black;}#sk-container-id-5 div.sk-toggleable__content {max-height: 0;max-width: 0;overflow: hidden;text-align: left;background-color: #f0f8ff;}#sk-container-id-5 div.sk-toggleable__content pre {margin: 0.2em;color: black;border-radius: 0.25em;background-color: #f0f8ff;}#sk-container-id-5 input.sk-toggleable__control:checked~div.sk-toggleable__content {max-height: 200px;max-width: 100%;overflow: auto;}#sk-container-id-5 input.sk-toggleable__control:checked~label.sk-toggleable__label-arrow:before {content: \"▾\";}#sk-container-id-5 div.sk-estimator input.sk-toggleable__control:checked~label.sk-toggleable__label {background-color: #d4ebff;}#sk-container-id-5 div.sk-label input.sk-toggleable__control:checked~label.sk-toggleable__label {background-color: #d4ebff;}#sk-container-id-5 input.sk-hidden--visually {border: 0;clip: rect(1px 1px 1px 1px);clip: rect(1px, 1px, 1px, 1px);height: 1px;margin: -1px;overflow: hidden;padding: 0;position: absolute;width: 1px;}#sk-container-id-5 div.sk-estimator {font-family: monospace;background-color: #f0f8ff;border: 1px dotted black;border-radius: 0.25em;box-sizing: border-box;margin-bottom: 0.5em;}#sk-container-id-5 div.sk-estimator:hover {background-color: #d4ebff;}#sk-container-id-5 div.sk-parallel-item::after {content: \"\";width: 100%;border-bottom: 1px solid gray;flex-grow: 1;}#sk-container-id-5 div.sk-label:hover label.sk-toggleable__label {background-color: #d4ebff;}#sk-container-id-5 div.sk-serial::before {content: \"\";position: absolute;border-left: 1px solid gray;box-sizing: border-box;top: 0;bottom: 0;left: 50%;z-index: 0;}#sk-container-id-5 div.sk-serial {display: flex;flex-direction: column;align-items: center;background-color: white;padding-right: 0.2em;padding-left: 0.2em;position: relative;}#sk-container-id-5 div.sk-item {position: relative;z-index: 1;}#sk-container-id-5 div.sk-parallel {display: flex;align-items: stretch;justify-content: center;background-color: white;position: relative;}#sk-container-id-5 div.sk-item::before, #sk-container-id-5 div.sk-parallel-item::before {content: \"\";position: absolute;border-left: 1px solid gray;box-sizing: border-box;top: 0;bottom: 0;left: 50%;z-index: -1;}#sk-container-id-5 div.sk-parallel-item {display: flex;flex-direction: column;z-index: 1;position: relative;background-color: white;}#sk-container-id-5 div.sk-parallel-item:first-child::after {align-self: flex-end;width: 50%;}#sk-container-id-5 div.sk-parallel-item:last-child::after {align-self: flex-start;width: 50%;}#sk-container-id-5 div.sk-parallel-item:only-child::after {width: 0;}#sk-container-id-5 div.sk-dashed-wrapped {border: 1px dashed gray;margin: 0 0.4em 0.5em 0.4em;box-sizing: border-box;padding-bottom: 0.4em;background-color: white;}#sk-container-id-5 div.sk-label label {font-family: monospace;font-weight: bold;display: inline-block;line-height: 1.2em;}#sk-container-id-5 div.sk-label-container {text-align: center;}#sk-container-id-5 div.sk-container {/* jupyter's `normalize.less` sets `[hidden] { display: none; }` but bootstrap.min.css set `[hidden] { display: none !important; }` so we also need the `!important` here to be able to override the default hidden behavior on the sphinx rendered scikit-learn.org. See: https://github.com/scikit-learn/scikit-learn/issues/21755 */display: inline-block !important;position: relative;}#sk-container-id-5 div.sk-text-repr-fallback {display: none;}</style><div id=\"sk-container-id-5\" class=\"sk-top-container\"><div class=\"sk-text-repr-fallback\"><pre>Lasso()</pre><b>In a Jupyter environment, please rerun this cell to show the HTML representation or trust the notebook. <br />On GitHub, the HTML representation is unable to render, please try loading this page with nbviewer.org.</b></div><div class=\"sk-container\" hidden><div class=\"sk-item\"><div class=\"sk-estimator sk-toggleable\"><input class=\"sk-toggleable__control sk-hidden--visually\" id=\"sk-estimator-id-5\" type=\"checkbox\" checked><label for=\"sk-estimator-id-5\" class=\"sk-toggleable__label sk-toggleable__label-arrow\">Lasso</label><div class=\"sk-toggleable__content\"><pre>Lasso()</pre></div></div></div></div></div>"
      ],
      "text/plain": [
       "Lasso()"
      ]
     },
     "execution_count": 66,
     "metadata": {},
     "output_type": "execute_result"
    }
   ],
   "source": [
    "model4.fit(trainX, trainy)"
   ]
  },
  {
   "cell_type": "code",
   "execution_count": 67,
   "id": "235c8eb4",
   "metadata": {},
   "outputs": [],
   "source": [
    "result = model4.predict(testX)"
   ]
  },
  {
   "cell_type": "code",
   "execution_count": 68,
   "id": "969289ea",
   "metadata": {},
   "outputs": [
    {
     "data": {
      "text/plain": [
       "array([18081.84707236, 18191.01638188, 20240.277659  , 35084.39065507,\n",
       "       26641.5146231 , 19942.99837249, 14279.09736317, 18893.88772875,\n",
       "       25141.95199515, 29719.51314337, 22595.59605382, 28944.6008585 ,\n",
       "       18245.11618405, 25623.222646  , 21000.02561106, 22485.99555429,\n",
       "       27732.280752  , 15603.57889505, 27336.97769607, 29589.7328115 ,\n",
       "       28352.96546545, 17991.82228505, 26115.42891634, 24459.21037891,\n",
       "       30288.7145229 , 27718.11305522, 31500.57994887, 26249.71023723,\n",
       "       26771.00051486, 23469.74484713, 17731.82954145, 17563.18339643,\n",
       "       22554.34173235, 20830.51013049, 25097.18170087, 26124.83325174,\n",
       "       30486.25392541, 19704.44724676, 30547.44075179, 31956.31552436,\n",
       "       24779.98054144, 32290.92617969, 22311.08321586, 21302.10557426,\n",
       "       25134.29077163, 17742.68899177, 20365.80861007, 30155.40261379,\n",
       "       22724.56755707, 27876.9673361 , 32036.12190007, 32052.09029348,\n",
       "       18860.467876  , 28343.39146689, 16841.66332154, 18935.18220466,\n",
       "       27786.04102887, 20232.96734503, 25856.37933086, 31427.07668589,\n",
       "       19342.28126214, 22818.8554529 , 24558.82411729, 26316.06674383,\n",
       "       28233.49801102, 26371.67541917, 16282.00358135, 29975.74558694,\n",
       "       19709.80474913, 27019.69195667, 17659.80626113, 30825.60380754,\n",
       "       23506.47908302, 25356.11782526, 16574.57709513, 17916.92190374,\n",
       "       23180.91291239, 28278.95822439, 30484.99531174, 19122.0152471 ,\n",
       "       29406.90272794, 22836.30093317, 36799.1300324 , 23716.7863687 ,\n",
       "       33204.84410031, 26383.33866495, 16833.08474427, 28524.25349815,\n",
       "       18543.9187717 , 30325.66779399, 28987.11975468, 26333.89451905,\n",
       "       21601.17783284, 30612.30313783, 14909.25089834, 30722.95364105,\n",
       "       30223.1253228 , 26385.91442763, 25683.0503419 , 25216.61298798,\n",
       "       28497.89470839, 18653.79377092, 29132.66321743, 18366.02169464,\n",
       "       32730.16749216, 21396.04783921, 25804.5108341 , 41213.97846864,\n",
       "       30007.19147662, 24807.66203384, 15347.74491   , 38174.24813306,\n",
       "       17792.07904183, 20260.41957284, 27124.15711244, 25700.5374784 ,\n",
       "       14965.98792646, 22546.61818809, 32851.09785054, 24101.02848444,\n",
       "       24802.75133972, 24415.99911747, 25613.02059278, 26970.79556344,\n",
       "       15751.35055973, 20828.4119339 , 19583.63830315, 24130.35761434,\n",
       "       20267.1189653 , 30575.3987522 , 26086.41124458, 24118.73317772,\n",
       "       26714.93832937, 29274.25823855, 25066.57520286, 15642.62308435,\n",
       "       26350.08277773, 21831.7387846 , 23284.86960418, 18988.41146023,\n",
       "       23642.95960631, 15618.27779416, 23179.57022335, 28363.19506648,\n",
       "       19899.92157823, 21115.51909141, 19695.57746791, 23987.33063809,\n",
       "       24969.57052439, 27651.54953903, 28873.64072432, 26117.75310786,\n",
       "       29051.39856618, 26341.24916262, 30813.19002409, 21916.26586822,\n",
       "       21640.88149757, 19985.37572127, 22238.03897548, 26524.92412496,\n",
       "       16815.72333938, 26407.52611251, 22675.80121961, 29938.75343735,\n",
       "       20307.15542066, 17363.86488533, 17162.23477801, 19233.59622392,\n",
       "       27891.51185874, 31135.58802992, 26336.19471627, 30990.79018016,\n",
       "       19346.98479893, 19622.09553743, 17160.67531313, 18234.02689709,\n",
       "       21792.9713915 , 21948.20405804, 19402.85198689, 38790.74377687,\n",
       "       16757.51650277, 27322.08396052, 28883.91957453, 28497.68821275,\n",
       "       18571.86038261, 21162.56361745, 14647.93997077, 24093.08997815,\n",
       "       29667.15996323, 31419.22743508, 18984.85627736, 22840.89097071,\n",
       "       29286.5094685 , 26669.4724488 , 28810.86145704, 24525.97302331,\n",
       "       21446.59225156, 23717.70432562])"
      ]
     },
     "execution_count": 68,
     "metadata": {},
     "output_type": "execute_result"
    }
   ],
   "source": [
    "result"
   ]
  },
  {
   "cell_type": "code",
   "execution_count": 69,
   "id": "4b810d5d",
   "metadata": {},
   "outputs": [
    {
     "data": {
      "text/plain": [
       "2715.8530323054833"
      ]
     },
     "execution_count": 69,
     "metadata": {},
     "output_type": "execute_result"
    }
   ],
   "source": [
    "mean_absolute_error(result, testy)"
   ]
  },
  {
   "cell_type": "markdown",
   "id": "82880a17",
   "metadata": {},
   "source": [
    "# 5. Ridge"
   ]
  },
  {
   "cell_type": "code",
   "execution_count": 80,
   "id": "86879c1b",
   "metadata": {},
   "outputs": [],
   "source": [
    "model5 = Ridge()"
   ]
  },
  {
   "cell_type": "code",
   "execution_count": 81,
   "id": "fc30da1d",
   "metadata": {},
   "outputs": [
    {
     "data": {
      "text/html": [
       "<style>#sk-container-id-8 {color: black;}#sk-container-id-8 pre{padding: 0;}#sk-container-id-8 div.sk-toggleable {background-color: white;}#sk-container-id-8 label.sk-toggleable__label {cursor: pointer;display: block;width: 100%;margin-bottom: 0;padding: 0.3em;box-sizing: border-box;text-align: center;}#sk-container-id-8 label.sk-toggleable__label-arrow:before {content: \"▸\";float: left;margin-right: 0.25em;color: #696969;}#sk-container-id-8 label.sk-toggleable__label-arrow:hover:before {color: black;}#sk-container-id-8 div.sk-estimator:hover label.sk-toggleable__label-arrow:before {color: black;}#sk-container-id-8 div.sk-toggleable__content {max-height: 0;max-width: 0;overflow: hidden;text-align: left;background-color: #f0f8ff;}#sk-container-id-8 div.sk-toggleable__content pre {margin: 0.2em;color: black;border-radius: 0.25em;background-color: #f0f8ff;}#sk-container-id-8 input.sk-toggleable__control:checked~div.sk-toggleable__content {max-height: 200px;max-width: 100%;overflow: auto;}#sk-container-id-8 input.sk-toggleable__control:checked~label.sk-toggleable__label-arrow:before {content: \"▾\";}#sk-container-id-8 div.sk-estimator input.sk-toggleable__control:checked~label.sk-toggleable__label {background-color: #d4ebff;}#sk-container-id-8 div.sk-label input.sk-toggleable__control:checked~label.sk-toggleable__label {background-color: #d4ebff;}#sk-container-id-8 input.sk-hidden--visually {border: 0;clip: rect(1px 1px 1px 1px);clip: rect(1px, 1px, 1px, 1px);height: 1px;margin: -1px;overflow: hidden;padding: 0;position: absolute;width: 1px;}#sk-container-id-8 div.sk-estimator {font-family: monospace;background-color: #f0f8ff;border: 1px dotted black;border-radius: 0.25em;box-sizing: border-box;margin-bottom: 0.5em;}#sk-container-id-8 div.sk-estimator:hover {background-color: #d4ebff;}#sk-container-id-8 div.sk-parallel-item::after {content: \"\";width: 100%;border-bottom: 1px solid gray;flex-grow: 1;}#sk-container-id-8 div.sk-label:hover label.sk-toggleable__label {background-color: #d4ebff;}#sk-container-id-8 div.sk-serial::before {content: \"\";position: absolute;border-left: 1px solid gray;box-sizing: border-box;top: 0;bottom: 0;left: 50%;z-index: 0;}#sk-container-id-8 div.sk-serial {display: flex;flex-direction: column;align-items: center;background-color: white;padding-right: 0.2em;padding-left: 0.2em;position: relative;}#sk-container-id-8 div.sk-item {position: relative;z-index: 1;}#sk-container-id-8 div.sk-parallel {display: flex;align-items: stretch;justify-content: center;background-color: white;position: relative;}#sk-container-id-8 div.sk-item::before, #sk-container-id-8 div.sk-parallel-item::before {content: \"\";position: absolute;border-left: 1px solid gray;box-sizing: border-box;top: 0;bottom: 0;left: 50%;z-index: -1;}#sk-container-id-8 div.sk-parallel-item {display: flex;flex-direction: column;z-index: 1;position: relative;background-color: white;}#sk-container-id-8 div.sk-parallel-item:first-child::after {align-self: flex-end;width: 50%;}#sk-container-id-8 div.sk-parallel-item:last-child::after {align-self: flex-start;width: 50%;}#sk-container-id-8 div.sk-parallel-item:only-child::after {width: 0;}#sk-container-id-8 div.sk-dashed-wrapped {border: 1px dashed gray;margin: 0 0.4em 0.5em 0.4em;box-sizing: border-box;padding-bottom: 0.4em;background-color: white;}#sk-container-id-8 div.sk-label label {font-family: monospace;font-weight: bold;display: inline-block;line-height: 1.2em;}#sk-container-id-8 div.sk-label-container {text-align: center;}#sk-container-id-8 div.sk-container {/* jupyter's `normalize.less` sets `[hidden] { display: none; }` but bootstrap.min.css set `[hidden] { display: none !important; }` so we also need the `!important` here to be able to override the default hidden behavior on the sphinx rendered scikit-learn.org. See: https://github.com/scikit-learn/scikit-learn/issues/21755 */display: inline-block !important;position: relative;}#sk-container-id-8 div.sk-text-repr-fallback {display: none;}</style><div id=\"sk-container-id-8\" class=\"sk-top-container\"><div class=\"sk-text-repr-fallback\"><pre>Ridge()</pre><b>In a Jupyter environment, please rerun this cell to show the HTML representation or trust the notebook. <br />On GitHub, the HTML representation is unable to render, please try loading this page with nbviewer.org.</b></div><div class=\"sk-container\" hidden><div class=\"sk-item\"><div class=\"sk-estimator sk-toggleable\"><input class=\"sk-toggleable__control sk-hidden--visually\" id=\"sk-estimator-id-8\" type=\"checkbox\" checked><label for=\"sk-estimator-id-8\" class=\"sk-toggleable__label sk-toggleable__label-arrow\">Ridge</label><div class=\"sk-toggleable__content\"><pre>Ridge()</pre></div></div></div></div></div>"
      ],
      "text/plain": [
       "Ridge()"
      ]
     },
     "execution_count": 81,
     "metadata": {},
     "output_type": "execute_result"
    }
   ],
   "source": [
    "model5.fit(trainX, trainy)"
   ]
  },
  {
   "cell_type": "code",
   "execution_count": 82,
   "id": "b231a9c5",
   "metadata": {},
   "outputs": [],
   "source": [
    "result = model5.predict(testX)"
   ]
  },
  {
   "cell_type": "code",
   "execution_count": 83,
   "id": "97b3d357",
   "metadata": {},
   "outputs": [
    {
     "data": {
      "text/plain": [
       "array([18091.79601404, 18212.7837651 , 20256.20149643, 35067.47077062,\n",
       "       26644.18751058, 19966.43312674, 14294.75229349, 18904.44062033,\n",
       "       25151.12894495, 29736.90707022, 22606.00217149, 28956.55840851,\n",
       "       18267.89350439, 25640.28012105, 21018.33844451, 22492.41304184,\n",
       "       27746.43403882, 15620.59081585, 27352.8636119 , 29599.81043326,\n",
       "       28369.14522194, 18003.3087144 , 26129.20511398, 24474.18442992,\n",
       "       30274.25653076, 27716.18735775, 31490.00487402, 26260.02159322,\n",
       "       26773.46508861, 23469.8806616 , 17756.33255501, 17586.14145515,\n",
       "       22556.78306883, 20847.94535966, 25088.53197758, 26139.20600798,\n",
       "       30499.6097771 , 19713.71224177, 30566.13587483, 31978.14909533,\n",
       "       24793.3265476 , 32123.85803187, 22321.13791429, 21321.11153451,\n",
       "       25146.47901772, 17752.48109466, 20378.45489373, 30168.39471565,\n",
       "       22747.90634267, 27887.4871837 , 32049.97721609, 32037.09605879,\n",
       "       18868.4371675 , 28367.73058897, 16852.92569483, 18956.74747248,\n",
       "       27798.62499822, 20246.83237316, 25880.02000647, 31411.09558544,\n",
       "       19351.84972549, 22830.8211005 , 24567.58336505, 26332.46578627,\n",
       "       28240.65081694, 26386.56896622, 16301.31754377, 29984.11708639,\n",
       "       19723.51867378, 27029.71394531, 17676.21729204, 30835.85391773,\n",
       "       23520.87846081, 25374.97311395, 16584.05054824, 17933.43306146,\n",
       "       23190.58672762, 28267.71198914, 30504.63295122, 19140.18213264,\n",
       "       29420.48732379, 22854.40356427, 36624.71948844, 23724.76026105,\n",
       "       33205.38345489, 26407.47512714, 16850.98641266, 28526.81550682,\n",
       "       18559.30167112, 30350.59360019, 28997.73900198, 26339.48981605,\n",
       "       21598.2546855 , 30618.82078135, 14925.51477438, 30737.61936767,\n",
       "       30032.39123604, 26218.49928816, 25664.06029864, 25225.33244056,\n",
       "       28514.54377427, 18665.79276083, 29134.20959734, 18363.32060627,\n",
       "       32730.34208109, 21412.59780121, 25821.53157296, 41020.91349419,\n",
       "       30006.62393944, 24822.73660887, 15359.33617786, 38007.98878195,\n",
       "       17807.51458418, 20275.28799951, 27124.65400025, 25713.37640989,\n",
       "       14981.93046203, 22570.88465022, 32858.66468249, 24108.84011116,\n",
       "       24826.54254254, 24439.68549373, 25621.38605742, 26957.51756215,\n",
       "       15767.61551033, 20853.92263655, 19569.77773634, 24133.27887432,\n",
       "       20274.9035895 , 30583.62695887, 26080.59375883, 24134.88316545,\n",
       "       26721.25962888, 29291.19711565, 25063.33264274, 15654.83703376,\n",
       "       26356.34656148, 21835.86867323, 23297.42878906, 19012.63841713,\n",
       "       23669.60282656, 15636.37180958, 23188.76543084, 28382.91512181,\n",
       "       19910.37595484, 21124.25174153, 19709.48953606, 23999.25668157,\n",
       "       24977.27476627, 27667.18399875, 28879.50453551, 26126.2601429 ,\n",
       "       29070.75849936, 26345.33764117, 30805.84894542, 21931.85967318,\n",
       "       21652.82806607, 20006.43861416, 22252.60164799, 26522.00851547,\n",
       "       16834.24841978, 26415.94466394, 22694.35528797, 29941.47012492,\n",
       "       20308.47258451, 17383.21719577, 17174.6167412 , 19248.49955377,\n",
       "       27902.29580797, 31137.20670813, 26341.68821726, 30974.29016311,\n",
       "       19360.21834545, 19633.74845391, 17179.76315875, 18251.51495255,\n",
       "       21806.88197593, 21963.63949502, 19395.33228239, 38620.51617681,\n",
       "       16777.48268568, 27329.47451287, 28869.12949541, 28317.33496412,\n",
       "       18586.64114618, 21179.06199569, 14666.40758687, 24106.14837905,\n",
       "       29673.77638653, 31428.53833179, 19002.38104284, 22855.27220389,\n",
       "       29304.32918877, 26502.04897674, 28640.64326043, 24543.06663331,\n",
       "       21444.46448509, 23733.71168698])"
      ]
     },
     "execution_count": 83,
     "metadata": {},
     "output_type": "execute_result"
    }
   ],
   "source": [
    "result"
   ]
  },
  {
   "cell_type": "code",
   "execution_count": 84,
   "id": "7eb7d3b4",
   "metadata": {},
   "outputs": [
    {
     "data": {
      "text/plain": [
       "2712.8969066852333"
      ]
     },
     "execution_count": 84,
     "metadata": {},
     "output_type": "execute_result"
    }
   ],
   "source": [
    "mean_absolute_error(result, testy)"
   ]
  },
  {
   "cell_type": "markdown",
   "id": "de53fb81",
   "metadata": {},
   "source": [
    "# 6. RandomForestRegressor"
   ]
  },
  {
   "cell_type": "code",
   "execution_count": 85,
   "id": "db3cdf2d",
   "metadata": {},
   "outputs": [],
   "source": [
    "model6 = RandomForestRegressor()"
   ]
  },
  {
   "cell_type": "code",
   "execution_count": 86,
   "id": "ceb50126",
   "metadata": {},
   "outputs": [
    {
     "data": {
      "text/html": [
       "<style>#sk-container-id-9 {color: black;}#sk-container-id-9 pre{padding: 0;}#sk-container-id-9 div.sk-toggleable {background-color: white;}#sk-container-id-9 label.sk-toggleable__label {cursor: pointer;display: block;width: 100%;margin-bottom: 0;padding: 0.3em;box-sizing: border-box;text-align: center;}#sk-container-id-9 label.sk-toggleable__label-arrow:before {content: \"▸\";float: left;margin-right: 0.25em;color: #696969;}#sk-container-id-9 label.sk-toggleable__label-arrow:hover:before {color: black;}#sk-container-id-9 div.sk-estimator:hover label.sk-toggleable__label-arrow:before {color: black;}#sk-container-id-9 div.sk-toggleable__content {max-height: 0;max-width: 0;overflow: hidden;text-align: left;background-color: #f0f8ff;}#sk-container-id-9 div.sk-toggleable__content pre {margin: 0.2em;color: black;border-radius: 0.25em;background-color: #f0f8ff;}#sk-container-id-9 input.sk-toggleable__control:checked~div.sk-toggleable__content {max-height: 200px;max-width: 100%;overflow: auto;}#sk-container-id-9 input.sk-toggleable__control:checked~label.sk-toggleable__label-arrow:before {content: \"▾\";}#sk-container-id-9 div.sk-estimator input.sk-toggleable__control:checked~label.sk-toggleable__label {background-color: #d4ebff;}#sk-container-id-9 div.sk-label input.sk-toggleable__control:checked~label.sk-toggleable__label {background-color: #d4ebff;}#sk-container-id-9 input.sk-hidden--visually {border: 0;clip: rect(1px 1px 1px 1px);clip: rect(1px, 1px, 1px, 1px);height: 1px;margin: -1px;overflow: hidden;padding: 0;position: absolute;width: 1px;}#sk-container-id-9 div.sk-estimator {font-family: monospace;background-color: #f0f8ff;border: 1px dotted black;border-radius: 0.25em;box-sizing: border-box;margin-bottom: 0.5em;}#sk-container-id-9 div.sk-estimator:hover {background-color: #d4ebff;}#sk-container-id-9 div.sk-parallel-item::after {content: \"\";width: 100%;border-bottom: 1px solid gray;flex-grow: 1;}#sk-container-id-9 div.sk-label:hover label.sk-toggleable__label {background-color: #d4ebff;}#sk-container-id-9 div.sk-serial::before {content: \"\";position: absolute;border-left: 1px solid gray;box-sizing: border-box;top: 0;bottom: 0;left: 50%;z-index: 0;}#sk-container-id-9 div.sk-serial {display: flex;flex-direction: column;align-items: center;background-color: white;padding-right: 0.2em;padding-left: 0.2em;position: relative;}#sk-container-id-9 div.sk-item {position: relative;z-index: 1;}#sk-container-id-9 div.sk-parallel {display: flex;align-items: stretch;justify-content: center;background-color: white;position: relative;}#sk-container-id-9 div.sk-item::before, #sk-container-id-9 div.sk-parallel-item::before {content: \"\";position: absolute;border-left: 1px solid gray;box-sizing: border-box;top: 0;bottom: 0;left: 50%;z-index: -1;}#sk-container-id-9 div.sk-parallel-item {display: flex;flex-direction: column;z-index: 1;position: relative;background-color: white;}#sk-container-id-9 div.sk-parallel-item:first-child::after {align-self: flex-end;width: 50%;}#sk-container-id-9 div.sk-parallel-item:last-child::after {align-self: flex-start;width: 50%;}#sk-container-id-9 div.sk-parallel-item:only-child::after {width: 0;}#sk-container-id-9 div.sk-dashed-wrapped {border: 1px dashed gray;margin: 0 0.4em 0.5em 0.4em;box-sizing: border-box;padding-bottom: 0.4em;background-color: white;}#sk-container-id-9 div.sk-label label {font-family: monospace;font-weight: bold;display: inline-block;line-height: 1.2em;}#sk-container-id-9 div.sk-label-container {text-align: center;}#sk-container-id-9 div.sk-container {/* jupyter's `normalize.less` sets `[hidden] { display: none; }` but bootstrap.min.css set `[hidden] { display: none !important; }` so we also need the `!important` here to be able to override the default hidden behavior on the sphinx rendered scikit-learn.org. See: https://github.com/scikit-learn/scikit-learn/issues/21755 */display: inline-block !important;position: relative;}#sk-container-id-9 div.sk-text-repr-fallback {display: none;}</style><div id=\"sk-container-id-9\" class=\"sk-top-container\"><div class=\"sk-text-repr-fallback\"><pre>RandomForestRegressor()</pre><b>In a Jupyter environment, please rerun this cell to show the HTML representation or trust the notebook. <br />On GitHub, the HTML representation is unable to render, please try loading this page with nbviewer.org.</b></div><div class=\"sk-container\" hidden><div class=\"sk-item\"><div class=\"sk-estimator sk-toggleable\"><input class=\"sk-toggleable__control sk-hidden--visually\" id=\"sk-estimator-id-9\" type=\"checkbox\" checked><label for=\"sk-estimator-id-9\" class=\"sk-toggleable__label sk-toggleable__label-arrow\">RandomForestRegressor</label><div class=\"sk-toggleable__content\"><pre>RandomForestRegressor()</pre></div></div></div></div></div>"
      ],
      "text/plain": [
       "RandomForestRegressor()"
      ]
     },
     "execution_count": 86,
     "metadata": {},
     "output_type": "execute_result"
    }
   ],
   "source": [
    "model6.fit(trainX, trainy)"
   ]
  },
  {
   "cell_type": "code",
   "execution_count": 88,
   "id": "88867536",
   "metadata": {},
   "outputs": [],
   "source": [
    "result = model6.predict(testX)"
   ]
  },
  {
   "cell_type": "code",
   "execution_count": 89,
   "id": "3d72e6ef",
   "metadata": {},
   "outputs": [
    {
     "data": {
      "text/plain": [
       "array([15500., 15050., 23000., 25160., 29490., 15440., 17880., 15930.,\n",
       "       26030., 28540., 23000., 28000., 15250., 29000., 25600., 23110.,\n",
       "       34780., 15190., 28970., 29920., 28410., 15000., 29130., 24600.,\n",
       "       25000., 25200., 25160., 29110., 29320., 23140., 15440., 17150.,\n",
       "       23000., 27180., 27670., 25000., 27960., 23000., 27800., 33010.,\n",
       "       28000., 35270., 23000., 23000., 25000., 15350., 23000., 28000.,\n",
       "       24860., 25000., 34940., 31390., 15600., 25100., 15020., 19870.,\n",
       "       35040., 23000., 25000., 34940., 23330., 23270., 25000., 24140.,\n",
       "       34940., 28130., 16100., 27710., 23000., 28000., 15010., 34740.,\n",
       "       24320., 23220., 15170., 18570., 25100., 25000., 28140., 15870.,\n",
       "       28000., 23000., 37820., 23380., 25000., 23080., 15000., 28000.,\n",
       "       21060., 27560., 25000., 29000., 23110., 34940., 15000., 29090.,\n",
       "       33390., 15410., 26540., 23070., 28230., 19860., 28000., 15330.,\n",
       "       30620., 24260., 23620., 32370., 28000., 25000., 15170., 36050.,\n",
       "       19390., 23000., 28000., 28000., 15000., 24030., 28190., 23000.,\n",
       "       24940., 23000., 25000., 27870., 16180., 27690., 17750., 23100.,\n",
       "       23000., 28640., 26140., 25000., 21220., 29000., 23520., 18060.,\n",
       "       26500., 19170., 24220., 21020., 23000., 15390., 24380., 28000.,\n",
       "       16810., 23000., 22980., 24980., 24060., 29060., 29010., 34890.,\n",
       "       29010., 29190., 28030., 23070., 25820., 28610., 24130., 30520.,\n",
       "       15000., 25640., 24370., 25000., 22010., 15110., 17190., 21180.,\n",
       "       29520., 28000., 24980., 30750., 23470., 22940., 15060., 16700.,\n",
       "       23000., 23000., 15210., 29290., 17640., 25000., 30730., 34790.,\n",
       "       23090., 23000., 17690., 28000., 28130., 31680., 15010., 23000.,\n",
       "       28020., 15230., 18810., 23430., 15030., 23000.])"
      ]
     },
     "execution_count": 89,
     "metadata": {},
     "output_type": "execute_result"
    }
   ],
   "source": [
    "result"
   ]
  },
  {
   "cell_type": "code",
   "execution_count": 90,
   "id": "f2e3ca21",
   "metadata": {},
   "outputs": [
    {
     "data": {
      "text/plain": [
       "1080.5555555555557"
      ]
     },
     "execution_count": 90,
     "metadata": {},
     "output_type": "execute_result"
    }
   ],
   "source": [
    "mean_absolute_error(result, testy)"
   ]
  },
  {
   "cell_type": "markdown",
   "id": "7792ad1f",
   "metadata": {},
   "source": [
    "# 7. KNeighborsClassifier"
   ]
  },
  {
   "cell_type": "code",
   "execution_count": 95,
   "id": "50285b1c",
   "metadata": {},
   "outputs": [],
   "source": [
    "model7 = KNeighborsClassifier()"
   ]
  },
  {
   "cell_type": "code",
   "execution_count": 96,
   "id": "3488bd91",
   "metadata": {},
   "outputs": [
    {
     "data": {
      "text/html": [
       "<style>#sk-container-id-11 {color: black;}#sk-container-id-11 pre{padding: 0;}#sk-container-id-11 div.sk-toggleable {background-color: white;}#sk-container-id-11 label.sk-toggleable__label {cursor: pointer;display: block;width: 100%;margin-bottom: 0;padding: 0.3em;box-sizing: border-box;text-align: center;}#sk-container-id-11 label.sk-toggleable__label-arrow:before {content: \"▸\";float: left;margin-right: 0.25em;color: #696969;}#sk-container-id-11 label.sk-toggleable__label-arrow:hover:before {color: black;}#sk-container-id-11 div.sk-estimator:hover label.sk-toggleable__label-arrow:before {color: black;}#sk-container-id-11 div.sk-toggleable__content {max-height: 0;max-width: 0;overflow: hidden;text-align: left;background-color: #f0f8ff;}#sk-container-id-11 div.sk-toggleable__content pre {margin: 0.2em;color: black;border-radius: 0.25em;background-color: #f0f8ff;}#sk-container-id-11 input.sk-toggleable__control:checked~div.sk-toggleable__content {max-height: 200px;max-width: 100%;overflow: auto;}#sk-container-id-11 input.sk-toggleable__control:checked~label.sk-toggleable__label-arrow:before {content: \"▾\";}#sk-container-id-11 div.sk-estimator input.sk-toggleable__control:checked~label.sk-toggleable__label {background-color: #d4ebff;}#sk-container-id-11 div.sk-label input.sk-toggleable__control:checked~label.sk-toggleable__label {background-color: #d4ebff;}#sk-container-id-11 input.sk-hidden--visually {border: 0;clip: rect(1px 1px 1px 1px);clip: rect(1px, 1px, 1px, 1px);height: 1px;margin: -1px;overflow: hidden;padding: 0;position: absolute;width: 1px;}#sk-container-id-11 div.sk-estimator {font-family: monospace;background-color: #f0f8ff;border: 1px dotted black;border-radius: 0.25em;box-sizing: border-box;margin-bottom: 0.5em;}#sk-container-id-11 div.sk-estimator:hover {background-color: #d4ebff;}#sk-container-id-11 div.sk-parallel-item::after {content: \"\";width: 100%;border-bottom: 1px solid gray;flex-grow: 1;}#sk-container-id-11 div.sk-label:hover label.sk-toggleable__label {background-color: #d4ebff;}#sk-container-id-11 div.sk-serial::before {content: \"\";position: absolute;border-left: 1px solid gray;box-sizing: border-box;top: 0;bottom: 0;left: 50%;z-index: 0;}#sk-container-id-11 div.sk-serial {display: flex;flex-direction: column;align-items: center;background-color: white;padding-right: 0.2em;padding-left: 0.2em;position: relative;}#sk-container-id-11 div.sk-item {position: relative;z-index: 1;}#sk-container-id-11 div.sk-parallel {display: flex;align-items: stretch;justify-content: center;background-color: white;position: relative;}#sk-container-id-11 div.sk-item::before, #sk-container-id-11 div.sk-parallel-item::before {content: \"\";position: absolute;border-left: 1px solid gray;box-sizing: border-box;top: 0;bottom: 0;left: 50%;z-index: -1;}#sk-container-id-11 div.sk-parallel-item {display: flex;flex-direction: column;z-index: 1;position: relative;background-color: white;}#sk-container-id-11 div.sk-parallel-item:first-child::after {align-self: flex-end;width: 50%;}#sk-container-id-11 div.sk-parallel-item:last-child::after {align-self: flex-start;width: 50%;}#sk-container-id-11 div.sk-parallel-item:only-child::after {width: 0;}#sk-container-id-11 div.sk-dashed-wrapped {border: 1px dashed gray;margin: 0 0.4em 0.5em 0.4em;box-sizing: border-box;padding-bottom: 0.4em;background-color: white;}#sk-container-id-11 div.sk-label label {font-family: monospace;font-weight: bold;display: inline-block;line-height: 1.2em;}#sk-container-id-11 div.sk-label-container {text-align: center;}#sk-container-id-11 div.sk-container {/* jupyter's `normalize.less` sets `[hidden] { display: none; }` but bootstrap.min.css set `[hidden] { display: none !important; }` so we also need the `!important` here to be able to override the default hidden behavior on the sphinx rendered scikit-learn.org. See: https://github.com/scikit-learn/scikit-learn/issues/21755 */display: inline-block !important;position: relative;}#sk-container-id-11 div.sk-text-repr-fallback {display: none;}</style><div id=\"sk-container-id-11\" class=\"sk-top-container\"><div class=\"sk-text-repr-fallback\"><pre>KNeighborsClassifier()</pre><b>In a Jupyter environment, please rerun this cell to show the HTML representation or trust the notebook. <br />On GitHub, the HTML representation is unable to render, please try loading this page with nbviewer.org.</b></div><div class=\"sk-container\" hidden><div class=\"sk-item\"><div class=\"sk-estimator sk-toggleable\"><input class=\"sk-toggleable__control sk-hidden--visually\" id=\"sk-estimator-id-11\" type=\"checkbox\" checked><label for=\"sk-estimator-id-11\" class=\"sk-toggleable__label sk-toggleable__label-arrow\">KNeighborsClassifier</label><div class=\"sk-toggleable__content\"><pre>KNeighborsClassifier()</pre></div></div></div></div></div>"
      ],
      "text/plain": [
       "KNeighborsClassifier()"
      ]
     },
     "execution_count": 96,
     "metadata": {},
     "output_type": "execute_result"
    }
   ],
   "source": [
    "model7.fit(trainX, trainy)"
   ]
  },
  {
   "cell_type": "code",
   "execution_count": 97,
   "id": "e0019985",
   "metadata": {},
   "outputs": [],
   "source": [
    "result = model7.predict(testX)"
   ]
  },
  {
   "cell_type": "code",
   "execution_count": 98,
   "id": "3f44c384",
   "metadata": {},
   "outputs": [
    {
     "data": {
      "text/plain": [
       "array([15000, 15000, 21000, 25000, 23000, 15000, 15000, 15000, 23000,\n",
       "       29000, 38000, 25000, 15000, 28000, 23000, 15000, 35000, 15000,\n",
       "       28000, 28000, 28000, 15000, 29000, 30000, 25000, 25000, 28000,\n",
       "       29000, 30000, 23000, 15000, 15000, 23000, 23000, 25000, 25000,\n",
       "       35000, 21000, 28000, 28000, 25000, 23000, 23000, 23000, 25000,\n",
       "       15000, 23000, 28000, 23000, 29000, 35000, 30000, 15000, 25000,\n",
       "       15000, 15000, 35000, 23000, 25000, 35000, 23000, 23000, 25000,\n",
       "       23000, 35000, 30000, 15000, 26000, 21000, 29000, 15000, 35000,\n",
       "       23000, 23000, 15000, 15000, 23000, 25000, 28000, 15000, 29000,\n",
       "       23000, 28000, 23000, 28000, 23000, 15000, 25000, 15000, 28000,\n",
       "       25000, 29000, 21000, 35000, 15000, 28000, 15000, 15000, 23000,\n",
       "       23000, 25000, 15000, 28000, 15000, 29000, 23000, 23000, 28000,\n",
       "       25000, 25000, 15000, 25000, 15000, 23000, 25000, 28000, 15000,\n",
       "       23000, 29000, 23000, 23000, 30000, 25000, 23000, 15000, 15000,\n",
       "       15000, 23000, 23000, 29000, 23000, 25000, 25000, 29000, 23000,\n",
       "       15000, 23000, 15000, 23000, 21000, 23000, 15000, 23000, 28000,\n",
       "       15000, 23000, 23000, 25000, 23000, 29000, 29000, 35000, 28000,\n",
       "       23000, 28000, 23000, 23000, 23000, 23000, 23000, 15000, 35000,\n",
       "       23000, 25000, 15000, 15000, 15000, 21000, 23000, 28000, 28000,\n",
       "       30000, 21000, 38000, 15000, 15000, 23000, 23000, 21000, 28000,\n",
       "       15000, 28000, 28000, 15000, 15000, 23000, 15000, 25000, 28000,\n",
       "       28000, 15000, 25000, 30000, 15000, 15000, 35000, 15000, 23000],\n",
       "      dtype=int64)"
      ]
     },
     "execution_count": 98,
     "metadata": {},
     "output_type": "execute_result"
    }
   ],
   "source": [
    "result"
   ]
  },
  {
   "cell_type": "code",
   "execution_count": 99,
   "id": "283f7e41",
   "metadata": {},
   "outputs": [
    {
     "data": {
      "text/plain": [
       "1904.040404040404"
      ]
     },
     "execution_count": 99,
     "metadata": {},
     "output_type": "execute_result"
    }
   ],
   "source": [
    "mean_absolute_error(result, testy)"
   ]
  },
  {
   "cell_type": "markdown",
   "id": "1974194d",
   "metadata": {},
   "source": [
    "# 8. SVC"
   ]
  },
  {
   "cell_type": "code",
   "execution_count": 100,
   "id": "6516ff42",
   "metadata": {},
   "outputs": [],
   "source": [
    "model8 = SVC()"
   ]
  },
  {
   "cell_type": "code",
   "execution_count": 101,
   "id": "29447097",
   "metadata": {},
   "outputs": [
    {
     "data": {
      "text/html": [
       "<style>#sk-container-id-12 {color: black;}#sk-container-id-12 pre{padding: 0;}#sk-container-id-12 div.sk-toggleable {background-color: white;}#sk-container-id-12 label.sk-toggleable__label {cursor: pointer;display: block;width: 100%;margin-bottom: 0;padding: 0.3em;box-sizing: border-box;text-align: center;}#sk-container-id-12 label.sk-toggleable__label-arrow:before {content: \"▸\";float: left;margin-right: 0.25em;color: #696969;}#sk-container-id-12 label.sk-toggleable__label-arrow:hover:before {color: black;}#sk-container-id-12 div.sk-estimator:hover label.sk-toggleable__label-arrow:before {color: black;}#sk-container-id-12 div.sk-toggleable__content {max-height: 0;max-width: 0;overflow: hidden;text-align: left;background-color: #f0f8ff;}#sk-container-id-12 div.sk-toggleable__content pre {margin: 0.2em;color: black;border-radius: 0.25em;background-color: #f0f8ff;}#sk-container-id-12 input.sk-toggleable__control:checked~div.sk-toggleable__content {max-height: 200px;max-width: 100%;overflow: auto;}#sk-container-id-12 input.sk-toggleable__control:checked~label.sk-toggleable__label-arrow:before {content: \"▾\";}#sk-container-id-12 div.sk-estimator input.sk-toggleable__control:checked~label.sk-toggleable__label {background-color: #d4ebff;}#sk-container-id-12 div.sk-label input.sk-toggleable__control:checked~label.sk-toggleable__label {background-color: #d4ebff;}#sk-container-id-12 input.sk-hidden--visually {border: 0;clip: rect(1px 1px 1px 1px);clip: rect(1px, 1px, 1px, 1px);height: 1px;margin: -1px;overflow: hidden;padding: 0;position: absolute;width: 1px;}#sk-container-id-12 div.sk-estimator {font-family: monospace;background-color: #f0f8ff;border: 1px dotted black;border-radius: 0.25em;box-sizing: border-box;margin-bottom: 0.5em;}#sk-container-id-12 div.sk-estimator:hover {background-color: #d4ebff;}#sk-container-id-12 div.sk-parallel-item::after {content: \"\";width: 100%;border-bottom: 1px solid gray;flex-grow: 1;}#sk-container-id-12 div.sk-label:hover label.sk-toggleable__label {background-color: #d4ebff;}#sk-container-id-12 div.sk-serial::before {content: \"\";position: absolute;border-left: 1px solid gray;box-sizing: border-box;top: 0;bottom: 0;left: 50%;z-index: 0;}#sk-container-id-12 div.sk-serial {display: flex;flex-direction: column;align-items: center;background-color: white;padding-right: 0.2em;padding-left: 0.2em;position: relative;}#sk-container-id-12 div.sk-item {position: relative;z-index: 1;}#sk-container-id-12 div.sk-parallel {display: flex;align-items: stretch;justify-content: center;background-color: white;position: relative;}#sk-container-id-12 div.sk-item::before, #sk-container-id-12 div.sk-parallel-item::before {content: \"\";position: absolute;border-left: 1px solid gray;box-sizing: border-box;top: 0;bottom: 0;left: 50%;z-index: -1;}#sk-container-id-12 div.sk-parallel-item {display: flex;flex-direction: column;z-index: 1;position: relative;background-color: white;}#sk-container-id-12 div.sk-parallel-item:first-child::after {align-self: flex-end;width: 50%;}#sk-container-id-12 div.sk-parallel-item:last-child::after {align-self: flex-start;width: 50%;}#sk-container-id-12 div.sk-parallel-item:only-child::after {width: 0;}#sk-container-id-12 div.sk-dashed-wrapped {border: 1px dashed gray;margin: 0 0.4em 0.5em 0.4em;box-sizing: border-box;padding-bottom: 0.4em;background-color: white;}#sk-container-id-12 div.sk-label label {font-family: monospace;font-weight: bold;display: inline-block;line-height: 1.2em;}#sk-container-id-12 div.sk-label-container {text-align: center;}#sk-container-id-12 div.sk-container {/* jupyter's `normalize.less` sets `[hidden] { display: none; }` but bootstrap.min.css set `[hidden] { display: none !important; }` so we also need the `!important` here to be able to override the default hidden behavior on the sphinx rendered scikit-learn.org. See: https://github.com/scikit-learn/scikit-learn/issues/21755 */display: inline-block !important;position: relative;}#sk-container-id-12 div.sk-text-repr-fallback {display: none;}</style><div id=\"sk-container-id-12\" class=\"sk-top-container\"><div class=\"sk-text-repr-fallback\"><pre>SVC()</pre><b>In a Jupyter environment, please rerun this cell to show the HTML representation or trust the notebook. <br />On GitHub, the HTML representation is unable to render, please try loading this page with nbviewer.org.</b></div><div class=\"sk-container\" hidden><div class=\"sk-item\"><div class=\"sk-estimator sk-toggleable\"><input class=\"sk-toggleable__control sk-hidden--visually\" id=\"sk-estimator-id-12\" type=\"checkbox\" checked><label for=\"sk-estimator-id-12\" class=\"sk-toggleable__label sk-toggleable__label-arrow\">SVC</label><div class=\"sk-toggleable__content\"><pre>SVC()</pre></div></div></div></div></div>"
      ],
      "text/plain": [
       "SVC()"
      ]
     },
     "execution_count": 101,
     "metadata": {},
     "output_type": "execute_result"
    }
   ],
   "source": [
    "model8.fit(trainX, trainy)"
   ]
  },
  {
   "cell_type": "code",
   "execution_count": 103,
   "id": "655710de",
   "metadata": {},
   "outputs": [],
   "source": [
    "result = model8.predict(testX)"
   ]
  },
  {
   "cell_type": "raw",
   "id": "1a629657",
   "metadata": {},
   "source": []
  },
  {
   "cell_type": "code",
   "execution_count": null,
   "id": "2f69a37b",
   "metadata": {},
   "outputs": [],
   "source": []
  },
  {
   "cell_type": "markdown",
   "id": "35840826",
   "metadata": {},
   "source": [
    "### After using six different models to choose the best performing one for this project, it is clear that RandomForestRegressor is suitable for this project because it is one with the least error"
   ]
  }
 ],
 "metadata": {
  "kernelspec": {
   "display_name": "Python 3 (ipykernel)",
   "language": "python",
   "name": "python3"
  },
  "language_info": {
   "codemirror_mode": {
    "name": "ipython",
    "version": 3
   },
   "file_extension": ".py",
   "mimetype": "text/x-python",
   "name": "python",
   "nbconvert_exporter": "python",
   "pygments_lexer": "ipython3",
   "version": "3.8.4"
  }
 },
 "nbformat": 4,
 "nbformat_minor": 5
}
